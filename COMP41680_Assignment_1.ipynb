{
  "nbformat": 4,
  "nbformat_minor": 0,
  "metadata": {
    "colab": {
      "name": "COMP41680 Assignment 1.ipynb",
      "provenance": [],
      "collapsed_sections": [
        "7R-LjkEPblO0"
      ]
    },
    "kernelspec": {
      "name": "python3",
      "display_name": "Python 3"
    }
  },
  "cells": [
    {
      "cell_type": "markdown",
      "metadata": {
        "id": "g7Fz9_7PbuCf",
        "colab_type": "text"
      },
      "source": [
        "# COMP41680 Assignment 1\n",
        "By: Vinay Bhardwaj <br>\n",
        "Student Number: 19200487"
      ]
    },
    {
      "cell_type": "code",
      "metadata": {
        "id": "_bjBCP4ye6PN",
        "colab_type": "code",
        "colab": {}
      },
      "source": [
        "import os\n",
        "import urllib.request\n",
        "import csv\n",
        "import pandas as pd \n",
        "import json\n",
        "from pandas.io.json import json_normalize\n",
        "import numpy as np\n",
        "import time\n",
        "from google.colab import files\n",
        "from pandas_profiling import ProfileReport"
      ],
      "execution_count": 0,
      "outputs": []
    },
    {
      "cell_type": "markdown",
      "metadata": {
        "id": "7R-LjkEPblO0",
        "colab_type": "text"
      },
      "source": [
        "## Data identification and Collection: \n"
      ]
    },
    {
      "cell_type": "markdown",
      "metadata": {
        "id": "_Ew1ay569yGJ",
        "colab_type": "text"
      },
      "source": [
        "I am using <b>Financial Modeling Prep API</b> for data collection which is a free api for access to stock market data. Since this assignment is based on collection of data and managing that data, we will collect data about all the listed companies in markets rather than selecting one or two company and looking at thier historical data. This service covers NYSE, NASAQ, AMEX, EURONEX, TSX, INDEXES, ETFs, MUTUAL FUNDS, FOREX and CRYPTO data. Also, they provide real time stock price, along with the fundamental data part of the stocks via providing income statement, balance sheet statement and cashflow statement quaterly and annually.<br>\n",
        "This api provides data in JSON format which can be directly read into a pandas dataframe.\n",
        "\n",
        "We will be using 3 endpoints in this assignment:\n",
        "1. Symbol List - this will give us the symbols for every company listed on the mentioned stock exchanges. Features are:<br>\n",
        "Symbol | Name | Price\n",
        "2. Company Profile - we will use the fetched symbol list to get Company profiles for each of these companies. This includes data for a company such as 52 week high, 52 week low, market capitalization, and key stats to understand a company finance. Features are:<br>\n",
        "Price| Beta| Volume Average| Market Capitalisation| Last Dividend| 52 week range| stock price change| stock price change in percentage| Company Name| Exchange| Description| Industry| Sector| CEO|Website and image\n",
        "3. Company Quote - We can use the symbols to find Company quotes for all the companies which contain more data about share high and lows for the year and the related data for the day. Features are :<br>\n",
        "symbol | price | change | previousClose | dayLow | dayHigh | yearHigh | yearLow | marketCap | priceAvg50 | priceAvg200 | volume | avgVolume\n",
        "\n",
        "** All the data collected is real time, it is subject to change **"
      ]
    },
    {
      "cell_type": "code",
      "metadata": {
        "id": "npKEri1MguDn",
        "colab_type": "code",
        "outputId": "3100fd7f-d683-45d9-ca48-8a585809d4b7",
        "colab": {
          "base_uri": "https://localhost:8080/",
          "height": 204
        }
      },
      "source": [
        "#fetching symbols for all companies\n",
        "link = \"https://financialmodelingprep.com/api/v3/company/stock/list\"\n",
        "stock_list_df = pd.read_json(link)\n",
        "stock_list_df.head()"
      ],
      "execution_count": 0,
      "outputs": [
        {
          "output_type": "execute_result",
          "data": {
            "text/html": [
              "<div>\n",
              "<style scoped>\n",
              "    .dataframe tbody tr th:only-of-type {\n",
              "        vertical-align: middle;\n",
              "    }\n",
              "\n",
              "    .dataframe tbody tr th {\n",
              "        vertical-align: top;\n",
              "    }\n",
              "\n",
              "    .dataframe thead th {\n",
              "        text-align: right;\n",
              "    }\n",
              "</style>\n",
              "<table border=\"1\" class=\"dataframe\">\n",
              "  <thead>\n",
              "    <tr style=\"text-align: right;\">\n",
              "      <th></th>\n",
              "      <th>symbolsList</th>\n",
              "    </tr>\n",
              "  </thead>\n",
              "  <tbody>\n",
              "    <tr>\n",
              "      <th>0</th>\n",
              "      <td>{'symbol': 'SPY', 'name': 'SPDR S&amp;P 500', 'pri...</td>\n",
              "    </tr>\n",
              "    <tr>\n",
              "      <th>1</th>\n",
              "      <td>{'symbol': 'CMCSA', 'name': 'Comcast Corporati...</td>\n",
              "    </tr>\n",
              "    <tr>\n",
              "      <th>2</th>\n",
              "      <td>{'symbol': 'KMI', 'name': 'Kinder Morgan Inc.'...</td>\n",
              "    </tr>\n",
              "    <tr>\n",
              "      <th>3</th>\n",
              "      <td>{'symbol': 'INTC', 'name': 'Intel Corporation'...</td>\n",
              "    </tr>\n",
              "    <tr>\n",
              "      <th>4</th>\n",
              "      <td>{'symbol': 'MU', 'name': 'Micron Technology In...</td>\n",
              "    </tr>\n",
              "  </tbody>\n",
              "</table>\n",
              "</div>"
            ],
            "text/plain": [
              "                                         symbolsList\n",
              "0  {'symbol': 'SPY', 'name': 'SPDR S&P 500', 'pri...\n",
              "1  {'symbol': 'CMCSA', 'name': 'Comcast Corporati...\n",
              "2  {'symbol': 'KMI', 'name': 'Kinder Morgan Inc.'...\n",
              "3  {'symbol': 'INTC', 'name': 'Intel Corporation'...\n",
              "4  {'symbol': 'MU', 'name': 'Micron Technology In..."
            ]
          },
          "metadata": {
            "tags": []
          },
          "execution_count": 67
        }
      ]
    },
    {
      "cell_type": "code",
      "metadata": {
        "id": "DDU-lfeH3_Uy",
        "colab_type": "code",
        "outputId": "3bb9ec28-877b-4011-afc3-3cbdbea52e80",
        "colab": {
          "base_uri": "https://localhost:8080/",
          "height": 204
        }
      },
      "source": [
        "# the data is not in jumbled json so normal json_normalize command can separate the columns for us\n",
        "stock_list_df = json_normalize(stock_list_df['symbolsList'])\n",
        "stock_list_df.head()"
      ],
      "execution_count": 0,
      "outputs": [
        {
          "output_type": "execute_result",
          "data": {
            "text/html": [
              "<div>\n",
              "<style scoped>\n",
              "    .dataframe tbody tr th:only-of-type {\n",
              "        vertical-align: middle;\n",
              "    }\n",
              "\n",
              "    .dataframe tbody tr th {\n",
              "        vertical-align: top;\n",
              "    }\n",
              "\n",
              "    .dataframe thead th {\n",
              "        text-align: right;\n",
              "    }\n",
              "</style>\n",
              "<table border=\"1\" class=\"dataframe\">\n",
              "  <thead>\n",
              "    <tr style=\"text-align: right;\">\n",
              "      <th></th>\n",
              "      <th>symbol</th>\n",
              "      <th>name</th>\n",
              "      <th>price</th>\n",
              "      <th>exchange</th>\n",
              "    </tr>\n",
              "  </thead>\n",
              "  <tbody>\n",
              "    <tr>\n",
              "      <th>0</th>\n",
              "      <td>SPY</td>\n",
              "      <td>SPDR S&amp;P 500</td>\n",
              "      <td>254.00</td>\n",
              "      <td>NYSE Arca</td>\n",
              "    </tr>\n",
              "    <tr>\n",
              "      <th>1</th>\n",
              "      <td>CMCSA</td>\n",
              "      <td>Comcast Corporation Class A Common Stock</td>\n",
              "      <td>34.57</td>\n",
              "      <td>Nasdaq Global Select</td>\n",
              "    </tr>\n",
              "    <tr>\n",
              "      <th>2</th>\n",
              "      <td>KMI</td>\n",
              "      <td>Kinder Morgan Inc.</td>\n",
              "      <td>13.75</td>\n",
              "      <td>New York Stock Exchange</td>\n",
              "    </tr>\n",
              "    <tr>\n",
              "      <th>3</th>\n",
              "      <td>INTC</td>\n",
              "      <td>Intel Corporation</td>\n",
              "      <td>52.37</td>\n",
              "      <td>Nasdaq Global Select</td>\n",
              "    </tr>\n",
              "    <tr>\n",
              "      <th>4</th>\n",
              "      <td>MU</td>\n",
              "      <td>Micron Technology Inc.</td>\n",
              "      <td>43.48</td>\n",
              "      <td>Nasdaq Global Select</td>\n",
              "    </tr>\n",
              "  </tbody>\n",
              "</table>\n",
              "</div>"
            ],
            "text/plain": [
              "  symbol  ...                 exchange\n",
              "0    SPY  ...                NYSE Arca\n",
              "1  CMCSA  ...     Nasdaq Global Select\n",
              "2    KMI  ...  New York Stock Exchange\n",
              "3   INTC  ...     Nasdaq Global Select\n",
              "4     MU  ...     Nasdaq Global Select\n",
              "\n",
              "[5 rows x 4 columns]"
            ]
          },
          "metadata": {
            "tags": []
          },
          "execution_count": 68
        }
      ]
    },
    {
      "cell_type": "markdown",
      "metadata": {
        "id": "YjA4nEVKa0dy",
        "colab_type": "text"
      },
      "source": [
        "A lot of rows in our list of stocks have missing name field, we will remove this to reduce data to be fetched further using this dataframe."
      ]
    },
    {
      "cell_type": "code",
      "metadata": {
        "id": "ROse3KMchKJl",
        "colab_type": "code",
        "outputId": "46a508c1-dd46-4663-8814-85eef14bad0d",
        "colab": {
          "base_uri": "https://localhost:8080/",
          "height": 34
        }
      },
      "source": [
        "stock_list_df = stock_list_df[~((stock_list_df['name'].isna()) | (stock_list_df['name'] == ''))]\n",
        "stock_list_df.shape"
      ],
      "execution_count": 0,
      "outputs": [
        {
          "output_type": "execute_result",
          "data": {
            "text/plain": [
              "(13111, 4)"
            ]
          },
          "metadata": {
            "tags": []
          },
          "execution_count": 69
        }
      ]
    },
    {
      "cell_type": "markdown",
      "metadata": {
        "id": "DRi_auT58vxX",
        "colab_type": "text"
      },
      "source": [
        "Saving stock_list_df dataframe to stock_list.csv file for further analysis."
      ]
    },
    {
      "cell_type": "code",
      "metadata": {
        "id": "VQcZtTwP3t0Y",
        "colab_type": "code",
        "colab": {}
      },
      "source": [
        "stock_list_df.to_csv('stock_list.csv',index=False)\n",
        "# files.download(\"stock_list.csv\") # only required for use in google colab"
      ],
      "execution_count": 0,
      "outputs": []
    },
    {
      "cell_type": "code",
      "metadata": {
        "id": "j-eMLbIKlEnX",
        "colab_type": "code",
        "outputId": "fcf449eb-855d-44aa-e440-26a8610dbab3",
        "colab": {
          "base_uri": "https://localhost:8080/",
          "height": 297
        }
      },
      "source": [
        "stock_list_df.describe()"
      ],
      "execution_count": 0,
      "outputs": [
        {
          "output_type": "execute_result",
          "data": {
            "text/html": [
              "<div>\n",
              "<style scoped>\n",
              "    .dataframe tbody tr th:only-of-type {\n",
              "        vertical-align: middle;\n",
              "    }\n",
              "\n",
              "    .dataframe tbody tr th {\n",
              "        vertical-align: top;\n",
              "    }\n",
              "\n",
              "    .dataframe thead th {\n",
              "        text-align: right;\n",
              "    }\n",
              "</style>\n",
              "<table border=\"1\" class=\"dataframe\">\n",
              "  <thead>\n",
              "    <tr style=\"text-align: right;\">\n",
              "      <th></th>\n",
              "      <th>price</th>\n",
              "    </tr>\n",
              "  </thead>\n",
              "  <tbody>\n",
              "    <tr>\n",
              "      <th>count</th>\n",
              "      <td>13111.000000</td>\n",
              "    </tr>\n",
              "    <tr>\n",
              "      <th>mean</th>\n",
              "      <td>54.006376</td>\n",
              "    </tr>\n",
              "    <tr>\n",
              "      <th>std</th>\n",
              "      <td>2345.859969</td>\n",
              "    </tr>\n",
              "    <tr>\n",
              "      <th>min</th>\n",
              "      <td>0.000000</td>\n",
              "    </tr>\n",
              "    <tr>\n",
              "      <th>25%</th>\n",
              "      <td>6.380000</td>\n",
              "    </tr>\n",
              "    <tr>\n",
              "      <th>50%</th>\n",
              "      <td>16.490000</td>\n",
              "    </tr>\n",
              "    <tr>\n",
              "      <th>75%</th>\n",
              "      <td>30.965000</td>\n",
              "    </tr>\n",
              "    <tr>\n",
              "      <th>max</th>\n",
              "      <td>268126.000000</td>\n",
              "    </tr>\n",
              "  </tbody>\n",
              "</table>\n",
              "</div>"
            ],
            "text/plain": [
              "               price\n",
              "count   13111.000000\n",
              "mean       54.006376\n",
              "std      2345.859969\n",
              "min         0.000000\n",
              "25%         6.380000\n",
              "50%        16.490000\n",
              "75%        30.965000\n",
              "max    268126.000000"
            ]
          },
          "metadata": {
            "tags": []
          },
          "execution_count": 26
        }
      ]
    },
    {
      "cell_type": "code",
      "metadata": {
        "id": "n3obVkU-4HhI",
        "colab_type": "code",
        "outputId": "b9f794ce-b784-48f4-eabb-a6076e498769",
        "colab": {
          "base_uri": "https://localhost:8080/",
          "height": 34
        }
      },
      "source": [
        "len(stock_list_df)"
      ],
      "execution_count": 0,
      "outputs": [
        {
          "output_type": "execute_result",
          "data": {
            "text/plain": [
              "13111"
            ]
          },
          "metadata": {
            "tags": []
          },
          "execution_count": 33
        }
      ]
    },
    {
      "cell_type": "markdown",
      "metadata": {
        "id": "CgdvJNWnR97x",
        "colab_type": "text"
      },
      "source": [
        "Next, we can fetch all the company profiles(13111) using the symbols dataframe.<br>\n",
        "This request is limited to 3 symbols to prevent exceeding server response time, so we will divide our 13111 records into splits to send a request of max 3 symbols at once. \n",
        "Also, we will add a wait time of 0.5 second to keep the load on server in check."
      ]
    },
    {
      "cell_type": "code",
      "metadata": {
        "id": "xhHlI6VaqMd9",
        "colab_type": "code",
        "colab": {}
      },
      "source": [
        "comp_df = pd.DataFrame() #create empty dataframe\n",
        "comp_profile_link = 'https://financialmodelingprep.com/api/v3/company/profile/'\n",
        "for comp_split in np.array_split(stock_list_df['symbol'],4500): #loop through splits of 3(max)\n",
        "  newlink = comp_profile_link + comp_split.str.cat(sep=',') # create new link for companies\n",
        "  if comp_df.empty:\n",
        "    comp_df = pd.read_json(newlink) # fetch profile data\n",
        "  else:\n",
        "    comp_df = comp_df.append(pd.read_json(newlink)) # fetch profile data and append\n",
        "  time.sleep(0.5)"
      ],
      "execution_count": 0,
      "outputs": []
    },
    {
      "cell_type": "code",
      "metadata": {
        "id": "OGDkCCbyq5aA",
        "colab_type": "code",
        "outputId": "eb2f360d-5a60-4a30-f20a-759ef3aba493",
        "colab": {
          "base_uri": "https://localhost:8080/",
          "height": 34
        }
      },
      "source": [
        "comp_df.shape"
      ],
      "execution_count": 0,
      "outputs": [
        {
          "output_type": "execute_result",
          "data": {
            "text/plain": [
              "(13111, 1)"
            ]
          },
          "metadata": {
            "tags": []
          },
          "execution_count": 60
        }
      ]
    },
    {
      "cell_type": "markdown",
      "metadata": {
        "id": "QBo4p0Ft7rDZ",
        "colab_type": "text"
      },
      "source": [
        "Data for all the companies is available in the company profile endpoint."
      ]
    },
    {
      "cell_type": "code",
      "metadata": {
        "id": "b_SQn-LK2JeG",
        "colab_type": "code",
        "outputId": "46d82e4a-5a13-427d-dca7-482968fbaaa3",
        "colab": {
          "base_uri": "https://localhost:8080/",
          "height": 204
        }
      },
      "source": [
        "comp_df.head()"
      ],
      "execution_count": 0,
      "outputs": [
        {
          "output_type": "execute_result",
          "data": {
            "text/html": [
              "<div>\n",
              "<style scoped>\n",
              "    .dataframe tbody tr th:only-of-type {\n",
              "        vertical-align: middle;\n",
              "    }\n",
              "\n",
              "    .dataframe tbody tr th {\n",
              "        vertical-align: top;\n",
              "    }\n",
              "\n",
              "    .dataframe thead th {\n",
              "        text-align: right;\n",
              "    }\n",
              "</style>\n",
              "<table border=\"1\" class=\"dataframe\">\n",
              "  <thead>\n",
              "    <tr style=\"text-align: right;\">\n",
              "      <th></th>\n",
              "      <th>companyProfiles</th>\n",
              "    </tr>\n",
              "  </thead>\n",
              "  <tbody>\n",
              "    <tr>\n",
              "      <th>0</th>\n",
              "      <td>{'symbol': 'SPY', 'profile': {'price': 254.0, ...</td>\n",
              "    </tr>\n",
              "    <tr>\n",
              "      <th>1</th>\n",
              "      <td>{'symbol': 'CMCSA', 'profile': {'price': 34.57...</td>\n",
              "    </tr>\n",
              "    <tr>\n",
              "      <th>2</th>\n",
              "      <td>{'symbol': 'KMI', 'profile': {'price': 13.75, ...</td>\n",
              "    </tr>\n",
              "    <tr>\n",
              "      <th>0</th>\n",
              "      <td>{'symbol': 'INTC', 'profile': {'price': 52.37,...</td>\n",
              "    </tr>\n",
              "    <tr>\n",
              "      <th>1</th>\n",
              "      <td>{'symbol': 'MU', 'profile': {'price': 43.48, '...</td>\n",
              "    </tr>\n",
              "  </tbody>\n",
              "</table>\n",
              "</div>"
            ],
            "text/plain": [
              "                                     companyProfiles\n",
              "0  {'symbol': 'SPY', 'profile': {'price': 254.0, ...\n",
              "1  {'symbol': 'CMCSA', 'profile': {'price': 34.57...\n",
              "2  {'symbol': 'KMI', 'profile': {'price': 13.75, ...\n",
              "0  {'symbol': 'INTC', 'profile': {'price': 52.37,...\n",
              "1  {'symbol': 'MU', 'profile': {'price': 43.48, '..."
            ]
          },
          "metadata": {
            "tags": []
          },
          "execution_count": 62
        }
      ]
    },
    {
      "cell_type": "code",
      "metadata": {
        "id": "mejP9M1cQCwH",
        "colab_type": "code",
        "outputId": "51928d4b-a952-4afb-a420-4bfe4e9fff33",
        "colab": {
          "base_uri": "https://localhost:8080/",
          "height": 377
        }
      },
      "source": [
        "company_profile = json_normalize(comp_df['companyProfiles'])\n",
        "company_profile.head()"
      ],
      "execution_count": 0,
      "outputs": [
        {
          "output_type": "execute_result",
          "data": {
            "text/html": [
              "<div>\n",
              "<style scoped>\n",
              "    .dataframe tbody tr th:only-of-type {\n",
              "        vertical-align: middle;\n",
              "    }\n",
              "\n",
              "    .dataframe tbody tr th {\n",
              "        vertical-align: top;\n",
              "    }\n",
              "\n",
              "    .dataframe thead th {\n",
              "        text-align: right;\n",
              "    }\n",
              "</style>\n",
              "<table border=\"1\" class=\"dataframe\">\n",
              "  <thead>\n",
              "    <tr style=\"text-align: right;\">\n",
              "      <th></th>\n",
              "      <th>symbol</th>\n",
              "      <th>profile.price</th>\n",
              "      <th>profile.beta</th>\n",
              "      <th>profile.volAvg</th>\n",
              "      <th>profile.mktCap</th>\n",
              "      <th>profile.lastDiv</th>\n",
              "      <th>profile.range</th>\n",
              "      <th>profile.changes</th>\n",
              "      <th>profile.changesPercentage</th>\n",
              "      <th>profile.companyName</th>\n",
              "      <th>profile.exchange</th>\n",
              "      <th>profile.industry</th>\n",
              "      <th>profile.website</th>\n",
              "      <th>profile.description</th>\n",
              "      <th>profile.ceo</th>\n",
              "      <th>profile.sector</th>\n",
              "      <th>profile.image</th>\n",
              "    </tr>\n",
              "  </thead>\n",
              "  <tbody>\n",
              "    <tr>\n",
              "      <th>0</th>\n",
              "      <td>SPY</td>\n",
              "      <td>254.00</td>\n",
              "      <td>0.999041</td>\n",
              "      <td>147892704</td>\n",
              "      <td>2.33116631E11</td>\n",
              "      <td>5.0668054</td>\n",
              "      <td>218.26-339.08</td>\n",
              "      <td>-7.20</td>\n",
              "      <td>(-2.76%)</td>\n",
              "      <td>SPDR S&amp;P 500</td>\n",
              "      <td>NYSE Arca</td>\n",
              "      <td></td>\n",
              "      <td>http://www.spdrs.com</td>\n",
              "      <td>The investment seeks to provide investment res...</td>\n",
              "      <td></td>\n",
              "      <td></td>\n",
              "      <td>https://financialmodelingprep.com/images-New-j...</td>\n",
              "    </tr>\n",
              "    <tr>\n",
              "      <th>1</th>\n",
              "      <td>CMCSA</td>\n",
              "      <td>34.57</td>\n",
              "      <td>1.061551</td>\n",
              "      <td>28335354</td>\n",
              "      <td>1.57398254E11</td>\n",
              "      <td>0.84</td>\n",
              "      <td>31.71-47.74</td>\n",
              "      <td>-2.17</td>\n",
              "      <td>(-5.91%)</td>\n",
              "      <td>Comcast Corporation Class A Common Stock</td>\n",
              "      <td>Nasdaq Global Select</td>\n",
              "      <td>Entertainment</td>\n",
              "      <td>https://corporate.comcast.com</td>\n",
              "      <td>Comcast Corp is a media and technology company...</td>\n",
              "      <td>Brian L. Roberts</td>\n",
              "      <td>Consumer Cyclical</td>\n",
              "      <td>https://financialmodelingprep.com/images-New-j...</td>\n",
              "    </tr>\n",
              "    <tr>\n",
              "      <th>2</th>\n",
              "      <td>KMI</td>\n",
              "      <td>13.75</td>\n",
              "      <td>0.75548</td>\n",
              "      <td>18834814</td>\n",
              "      <td>3.1144577E10</td>\n",
              "      <td>0.8</td>\n",
              "      <td>9.42-22.58</td>\n",
              "      <td>-0.73</td>\n",
              "      <td>(-5.04%)</td>\n",
              "      <td>Kinder Morgan Inc.</td>\n",
              "      <td>New York Stock Exchange</td>\n",
              "      <td>Oil &amp; Gas - Midstream</td>\n",
              "      <td>http://www.kindermorgan.com</td>\n",
              "      <td>Kinder Morgan Inc is an energy infrastructure ...</td>\n",
              "      <td>Steven J. Kean</td>\n",
              "      <td>Energy</td>\n",
              "      <td>https://financialmodelingprep.com/images-New-j...</td>\n",
              "    </tr>\n",
              "    <tr>\n",
              "      <th>3</th>\n",
              "      <td>INTC</td>\n",
              "      <td>52.37</td>\n",
              "      <td>0.90978</td>\n",
              "      <td>30390003</td>\n",
              "      <td>2.23986483E11</td>\n",
              "      <td>1.26</td>\n",
              "      <td>42.86-69.29</td>\n",
              "      <td>-3.17</td>\n",
              "      <td>(-5.71%)</td>\n",
              "      <td>Intel Corporation</td>\n",
              "      <td>Nasdaq Global Select</td>\n",
              "      <td>Semiconductors</td>\n",
              "      <td>http://www.intel.com</td>\n",
              "      <td>Intel Corp is the world's largest chipmaker. I...</td>\n",
              "      <td>Brian M. Krzanich</td>\n",
              "      <td>Technology</td>\n",
              "      <td>https://financialmodelingprep.com/images-New-j...</td>\n",
              "    </tr>\n",
              "    <tr>\n",
              "      <th>4</th>\n",
              "      <td>MU</td>\n",
              "      <td>43.48</td>\n",
              "      <td>1.951096</td>\n",
              "      <td>29145220</td>\n",
              "      <td>4.8300626E10</td>\n",
              "      <td>0</td>\n",
              "      <td>31.13-61.19</td>\n",
              "      <td>-1.31</td>\n",
              "      <td>(-2.92%)</td>\n",
              "      <td>Micron Technology Inc.</td>\n",
              "      <td>Nasdaq Global Select</td>\n",
              "      <td>Semiconductors</td>\n",
              "      <td>http://www.micron.com</td>\n",
              "      <td>Micron Technology Inc along with its subsidiar...</td>\n",
              "      <td></td>\n",
              "      <td>Technology</td>\n",
              "      <td>https://financialmodelingprep.com/images-New-j...</td>\n",
              "    </tr>\n",
              "  </tbody>\n",
              "</table>\n",
              "</div>"
            ],
            "text/plain": [
              "  symbol  ...                                      profile.image\n",
              "0    SPY  ...  https://financialmodelingprep.com/images-New-j...\n",
              "1  CMCSA  ...  https://financialmodelingprep.com/images-New-j...\n",
              "2    KMI  ...  https://financialmodelingprep.com/images-New-j...\n",
              "3   INTC  ...  https://financialmodelingprep.com/images-New-j...\n",
              "4     MU  ...  https://financialmodelingprep.com/images-New-j...\n",
              "\n",
              "[5 rows x 17 columns]"
            ]
          },
          "metadata": {
            "tags": []
          },
          "execution_count": 63
        }
      ]
    },
    {
      "cell_type": "markdown",
      "metadata": {
        "id": "5F5cAfQ68dLq",
        "colab_type": "text"
      },
      "source": [
        "Saving company_profile dataframe to company_profile.csv file for further analysis."
      ]
    },
    {
      "cell_type": "code",
      "metadata": {
        "id": "h4glpdCBSMiC",
        "colab_type": "code",
        "colab": {}
      },
      "source": [
        "company_profile.to_csv('company_profile.csv',index=False)\n",
        "# files.download(\"company_profile.csv\") # only required for use in google colab"
      ],
      "execution_count": 0,
      "outputs": []
    },
    {
      "cell_type": "markdown",
      "metadata": {
        "id": "FmlC8bJg41Z5",
        "colab_type": "text"
      },
      "source": [
        "Next, we can fetch the quote data from quote api endpoint. There is no limit on the number of parameters for this endpoint, so we divide our list of 13111 into 100 splits for load balancing."
      ]
    },
    {
      "cell_type": "code",
      "metadata": {
        "id": "59gOoJuO3DlV",
        "colab_type": "code",
        "colab": {}
      },
      "source": [
        "quote_df = pd.DataFrame() #create empty dataframe\n",
        "quote_link = 'https://financialmodelingprep.com/api/v3/quote/'\n",
        "for quote_split in np.array_split(stock_list_df['symbol'],100): #loop through 100 splits\n",
        "  newlink = quote_link + quote_split.str.cat(sep=',') # create new link for companies\n",
        "  if quote_df.empty:\n",
        "    quote_df = pd.read_json(newlink) # fetch profile data\n",
        "  else:\n",
        "    quote_df = quote_df.append(pd.read_json(newlink)) # fetch profile data and append\n",
        "  time.sleep(0.5)"
      ],
      "execution_count": 0,
      "outputs": []
    },
    {
      "cell_type": "code",
      "metadata": {
        "id": "DyC-1eND7iOu",
        "colab_type": "code",
        "outputId": "2ded16ea-c22d-449b-bb43-653a9fa1e661",
        "colab": {
          "base_uri": "https://localhost:8080/",
          "height": 34
        }
      },
      "source": [
        "quote_df.shape"
      ],
      "execution_count": 0,
      "outputs": [
        {
          "output_type": "execute_result",
          "data": {
            "text/plain": [
              "(12057, 22)"
            ]
          },
          "metadata": {
            "tags": []
          },
          "execution_count": 76
        }
      ]
    },
    {
      "cell_type": "markdown",
      "metadata": {
        "id": "Maw4ySmV7zAQ",
        "colab_type": "text"
      },
      "source": [
        "Data for only 12057 companies is available in the quote endpoint. This can result in missing data at the time of join."
      ]
    },
    {
      "cell_type": "code",
      "metadata": {
        "id": "YpTEtywY5H17",
        "colab_type": "code",
        "outputId": "ec959bfc-0016-460e-b3ce-5d9232a75880",
        "colab": {
          "base_uri": "https://localhost:8080/",
          "height": 411
        }
      },
      "source": [
        "quote_df.head()"
      ],
      "execution_count": 0,
      "outputs": [
        {
          "output_type": "execute_result",
          "data": {
            "text/html": [
              "<div>\n",
              "<style scoped>\n",
              "    .dataframe tbody tr th:only-of-type {\n",
              "        vertical-align: middle;\n",
              "    }\n",
              "\n",
              "    .dataframe tbody tr th {\n",
              "        vertical-align: top;\n",
              "    }\n",
              "\n",
              "    .dataframe thead th {\n",
              "        text-align: right;\n",
              "    }\n",
              "</style>\n",
              "<table border=\"1\" class=\"dataframe\">\n",
              "  <thead>\n",
              "    <tr style=\"text-align: right;\">\n",
              "      <th></th>\n",
              "      <th>symbol</th>\n",
              "      <th>name</th>\n",
              "      <th>price</th>\n",
              "      <th>changesPercentage</th>\n",
              "      <th>change</th>\n",
              "      <th>dayLow</th>\n",
              "      <th>dayHigh</th>\n",
              "      <th>yearHigh</th>\n",
              "      <th>yearLow</th>\n",
              "      <th>marketCap</th>\n",
              "      <th>priceAvg50</th>\n",
              "      <th>priceAvg200</th>\n",
              "      <th>volume</th>\n",
              "      <th>avgVolume</th>\n",
              "      <th>exhange</th>\n",
              "      <th>open</th>\n",
              "      <th>previousClose</th>\n",
              "      <th>eps</th>\n",
              "      <th>pe</th>\n",
              "      <th>earningsAnnouncement</th>\n",
              "      <th>sharesOutstanding</th>\n",
              "      <th>timestamp</th>\n",
              "    </tr>\n",
              "  </thead>\n",
              "  <tbody>\n",
              "    <tr>\n",
              "      <th>0</th>\n",
              "      <td>AAPL</td>\n",
              "      <td>Apple Inc.</td>\n",
              "      <td>247.74</td>\n",
              "      <td>-4.14</td>\n",
              "      <td>-10.70</td>\n",
              "      <td>247.0500</td>\n",
              "      <td>255.87</td>\n",
              "      <td>327.85</td>\n",
              "      <td>170.27</td>\n",
              "      <td>1.083981e+12</td>\n",
              "      <td>282.989720</td>\n",
              "      <td>269.801360</td>\n",
              "      <td>51054153.0</td>\n",
              "      <td>48846970.0</td>\n",
              "      <td>NASDAQ</td>\n",
              "      <td>252.75</td>\n",
              "      <td>258.44</td>\n",
              "      <td>12.595</td>\n",
              "      <td>19.669710</td>\n",
              "      <td>2020-01-28T21:30:00.000+0000</td>\n",
              "      <td>4.375480e+09</td>\n",
              "      <td>2020-03-28 20:53:56</td>\n",
              "    </tr>\n",
              "    <tr>\n",
              "      <th>1</th>\n",
              "      <td>GM</td>\n",
              "      <td>General Motors Company</td>\n",
              "      <td>21.38</td>\n",
              "      <td>-5.23</td>\n",
              "      <td>-1.18</td>\n",
              "      <td>20.7400</td>\n",
              "      <td>21.96</td>\n",
              "      <td>41.90</td>\n",
              "      <td>14.33</td>\n",
              "      <td>3.055202e+10</td>\n",
              "      <td>28.048000</td>\n",
              "      <td>34.143955</td>\n",
              "      <td>17773517.0</td>\n",
              "      <td>14820266.0</td>\n",
              "      <td>NYSE</td>\n",
              "      <td>21.37</td>\n",
              "      <td>22.56</td>\n",
              "      <td>4.570</td>\n",
              "      <td>4.678337</td>\n",
              "      <td>2020-05-06T16:30:00.000+0000</td>\n",
              "      <td>1.428780e+09</td>\n",
              "      <td>2020-03-28 20:53:56</td>\n",
              "    </tr>\n",
              "    <tr>\n",
              "      <th>2</th>\n",
              "      <td>TVIX</td>\n",
              "      <td>VelocityShares Daily 2x VIX Short-Term ETN</td>\n",
              "      <td>376.00</td>\n",
              "      <td>13.94</td>\n",
              "      <td>46.00</td>\n",
              "      <td>353.4101</td>\n",
              "      <td>384.40</td>\n",
              "      <td>1000.00</td>\n",
              "      <td>38.33</td>\n",
              "      <td>NaN</td>\n",
              "      <td>228.780850</td>\n",
              "      <td>119.914030</td>\n",
              "      <td>3432491.0</td>\n",
              "      <td>12579864.0</td>\n",
              "      <td>NASDAQ</td>\n",
              "      <td>379.60</td>\n",
              "      <td>330.00</td>\n",
              "      <td>NaN</td>\n",
              "      <td>NaN</td>\n",
              "      <td>None</td>\n",
              "      <td>NaN</td>\n",
              "      <td>2020-03-28 20:53:56</td>\n",
              "    </tr>\n",
              "    <tr>\n",
              "      <th>3</th>\n",
              "      <td>CTRP</td>\n",
              "      <td>Trip.com Group Limited</td>\n",
              "      <td>34.93</td>\n",
              "      <td>NaN</td>\n",
              "      <td>NaN</td>\n",
              "      <td>NaN</td>\n",
              "      <td>NaN</td>\n",
              "      <td>NaN</td>\n",
              "      <td>NaN</td>\n",
              "      <td>NaN</td>\n",
              "      <td>NaN</td>\n",
              "      <td>NaN</td>\n",
              "      <td>NaN</td>\n",
              "      <td>NaN</td>\n",
              "      <td>NASDAQ</td>\n",
              "      <td>NaN</td>\n",
              "      <td>NaN</td>\n",
              "      <td>NaN</td>\n",
              "      <td>NaN</td>\n",
              "      <td>None</td>\n",
              "      <td>NaN</td>\n",
              "      <td>2020-03-28 20:53:56</td>\n",
              "    </tr>\n",
              "    <tr>\n",
              "      <th>4</th>\n",
              "      <td>XRX</td>\n",
              "      <td>Xerox Holdings Corporation</td>\n",
              "      <td>17.66</td>\n",
              "      <td>-9.06</td>\n",
              "      <td>-1.76</td>\n",
              "      <td>17.5100</td>\n",
              "      <td>19.30</td>\n",
              "      <td>39.47</td>\n",
              "      <td>15.01</td>\n",
              "      <td>3.757853e+09</td>\n",
              "      <td>29.137142</td>\n",
              "      <td>33.284530</td>\n",
              "      <td>3918064.0</td>\n",
              "      <td>2594006.0</td>\n",
              "      <td>NYSE</td>\n",
              "      <td>19.03</td>\n",
              "      <td>19.42</td>\n",
              "      <td>5.803</td>\n",
              "      <td>3.043253</td>\n",
              "      <td>2020-01-28T18:30:00.000+0000</td>\n",
              "      <td>2.125900e+08</td>\n",
              "      <td>2020-03-28 20:53:56</td>\n",
              "    </tr>\n",
              "  </tbody>\n",
              "</table>\n",
              "</div>"
            ],
            "text/plain": [
              "  symbol  ...           timestamp\n",
              "0   AAPL  ... 2020-03-28 20:53:56\n",
              "1     GM  ... 2020-03-28 20:53:56\n",
              "2   TVIX  ... 2020-03-28 20:53:56\n",
              "3   CTRP  ... 2020-03-28 20:53:56\n",
              "4    XRX  ... 2020-03-28 20:53:56\n",
              "\n",
              "[5 rows x 22 columns]"
            ]
          },
          "metadata": {
            "tags": []
          },
          "execution_count": 77
        }
      ]
    },
    {
      "cell_type": "markdown",
      "metadata": {
        "id": "oKlvqNuT8Nb2",
        "colab_type": "text"
      },
      "source": [
        "Saving quote_df into quote.csv file for further analysis."
      ]
    },
    {
      "cell_type": "code",
      "metadata": {
        "id": "qemF0uhb5Z68",
        "colab_type": "code",
        "colab": {}
      },
      "source": [
        "quote_df.to_csv('quote.csv',index=False)\n",
        "# files.download(\"quote.csv\") #only required for use in google colab"
      ],
      "execution_count": 0,
      "outputs": []
    },
    {
      "cell_type": "markdown",
      "metadata": {
        "id": "MsLXqeml9dpT",
        "colab_type": "text"
      },
      "source": [
        "## Data preparation and analysis\n"
      ]
    },
    {
      "cell_type": "markdown",
      "metadata": {
        "id": "qXpRYXIo92TH",
        "colab_type": "text"
      },
      "source": [
        "Now that we have fetched and stored all the required data from our api into 3 files - stock_list.csv, company_profile.csv and quote.csv. We can load these files directly into our notebook and perform data analysis."
      ]
    },
    {
      "cell_type": "code",
      "metadata": {
        "id": "9NWIONAEBlIZ",
        "colab_type": "code",
        "colab": {}
      },
      "source": [
        "# to be used only in google colab\n",
        "#files.upload()"
      ],
      "execution_count": 0,
      "outputs": []
    },
    {
      "cell_type": "code",
      "metadata": {
        "id": "rBVbYrVa8Yd1",
        "colab_type": "code",
        "colab": {}
      },
      "source": [
        "# Re-loading the data into 3 pandas dataframes\n",
        "symbols_df = pd.read_csv('stock_list.csv')\n",
        "company_profile_df = pd.read_csv('company_profile.csv')\n",
        "quote_df = pd.read_csv('quote.csv')"
      ],
      "execution_count": 0,
      "outputs": []
    },
    {
      "cell_type": "code",
      "metadata": {
        "id": "0mNBn__0-6OW",
        "colab_type": "code",
        "outputId": "ec670c51-d36e-42d6-f2db-4777fe973cd3",
        "colab": {
          "base_uri": "https://localhost:8080/",
          "height": 142
        }
      },
      "source": [
        "symbols_df.head(3)"
      ],
      "execution_count": 0,
      "outputs": [
        {
          "output_type": "execute_result",
          "data": {
            "text/html": [
              "<div>\n",
              "<style scoped>\n",
              "    .dataframe tbody tr th:only-of-type {\n",
              "        vertical-align: middle;\n",
              "    }\n",
              "\n",
              "    .dataframe tbody tr th {\n",
              "        vertical-align: top;\n",
              "    }\n",
              "\n",
              "    .dataframe thead th {\n",
              "        text-align: right;\n",
              "    }\n",
              "</style>\n",
              "<table border=\"1\" class=\"dataframe\">\n",
              "  <thead>\n",
              "    <tr style=\"text-align: right;\">\n",
              "      <th></th>\n",
              "      <th>symbol</th>\n",
              "      <th>name</th>\n",
              "      <th>price</th>\n",
              "      <th>exchange</th>\n",
              "    </tr>\n",
              "  </thead>\n",
              "  <tbody>\n",
              "    <tr>\n",
              "      <th>0</th>\n",
              "      <td>SPY</td>\n",
              "      <td>SPDR S&amp;P 500</td>\n",
              "      <td>254.00</td>\n",
              "      <td>NYSE Arca</td>\n",
              "    </tr>\n",
              "    <tr>\n",
              "      <th>1</th>\n",
              "      <td>CMCSA</td>\n",
              "      <td>Comcast Corporation Class A Common Stock</td>\n",
              "      <td>34.57</td>\n",
              "      <td>Nasdaq Global Select</td>\n",
              "    </tr>\n",
              "    <tr>\n",
              "      <th>2</th>\n",
              "      <td>KMI</td>\n",
              "      <td>Kinder Morgan Inc.</td>\n",
              "      <td>13.75</td>\n",
              "      <td>New York Stock Exchange</td>\n",
              "    </tr>\n",
              "  </tbody>\n",
              "</table>\n",
              "</div>"
            ],
            "text/plain": [
              "  symbol  ...                 exchange\n",
              "0    SPY  ...                NYSE Arca\n",
              "1  CMCSA  ...     Nasdaq Global Select\n",
              "2    KMI  ...  New York Stock Exchange\n",
              "\n",
              "[3 rows x 4 columns]"
            ]
          },
          "metadata": {
            "tags": []
          },
          "execution_count": 11
        }
      ]
    },
    {
      "cell_type": "code",
      "metadata": {
        "id": "rimRlRvm-9LU",
        "colab_type": "code",
        "outputId": "84ff2dc7-f977-4b65-970c-cd37591bb4d5",
        "colab": {
          "base_uri": "https://localhost:8080/",
          "height": 264
        }
      },
      "source": [
        "company_profile_df.head(3)"
      ],
      "execution_count": 0,
      "outputs": [
        {
          "output_type": "execute_result",
          "data": {
            "text/html": [
              "<div>\n",
              "<style scoped>\n",
              "    .dataframe tbody tr th:only-of-type {\n",
              "        vertical-align: middle;\n",
              "    }\n",
              "\n",
              "    .dataframe tbody tr th {\n",
              "        vertical-align: top;\n",
              "    }\n",
              "\n",
              "    .dataframe thead th {\n",
              "        text-align: right;\n",
              "    }\n",
              "</style>\n",
              "<table border=\"1\" class=\"dataframe\">\n",
              "  <thead>\n",
              "    <tr style=\"text-align: right;\">\n",
              "      <th></th>\n",
              "      <th>symbol</th>\n",
              "      <th>profile.price</th>\n",
              "      <th>profile.beta</th>\n",
              "      <th>profile.volAvg</th>\n",
              "      <th>profile.mktCap</th>\n",
              "      <th>profile.lastDiv</th>\n",
              "      <th>profile.range</th>\n",
              "      <th>profile.changes</th>\n",
              "      <th>profile.changesPercentage</th>\n",
              "      <th>profile.companyName</th>\n",
              "      <th>profile.exchange</th>\n",
              "      <th>profile.industry</th>\n",
              "      <th>profile.website</th>\n",
              "      <th>profile.description</th>\n",
              "      <th>profile.ceo</th>\n",
              "      <th>profile.sector</th>\n",
              "      <th>profile.image</th>\n",
              "    </tr>\n",
              "  </thead>\n",
              "  <tbody>\n",
              "    <tr>\n",
              "      <th>0</th>\n",
              "      <td>SPY</td>\n",
              "      <td>254.00</td>\n",
              "      <td>0.999041</td>\n",
              "      <td>147892704</td>\n",
              "      <td>2.331166e+11</td>\n",
              "      <td>5.066805</td>\n",
              "      <td>218.26-339.08</td>\n",
              "      <td>-7.20</td>\n",
              "      <td>(-2.76%)</td>\n",
              "      <td>SPDR S&amp;P 500</td>\n",
              "      <td>NYSE Arca</td>\n",
              "      <td>NaN</td>\n",
              "      <td>http://www.spdrs.com</td>\n",
              "      <td>The investment seeks to provide investment res...</td>\n",
              "      <td>NaN</td>\n",
              "      <td>NaN</td>\n",
              "      <td>https://financialmodelingprep.com/images-New-j...</td>\n",
              "    </tr>\n",
              "    <tr>\n",
              "      <th>1</th>\n",
              "      <td>CMCSA</td>\n",
              "      <td>34.57</td>\n",
              "      <td>1.061551</td>\n",
              "      <td>28335354</td>\n",
              "      <td>1.573983e+11</td>\n",
              "      <td>0.840000</td>\n",
              "      <td>31.71-47.74</td>\n",
              "      <td>-2.17</td>\n",
              "      <td>(-5.91%)</td>\n",
              "      <td>Comcast Corporation Class A Common Stock</td>\n",
              "      <td>Nasdaq Global Select</td>\n",
              "      <td>Entertainment</td>\n",
              "      <td>https://corporate.comcast.com</td>\n",
              "      <td>Comcast Corp is a media and technology company...</td>\n",
              "      <td>Brian L. Roberts</td>\n",
              "      <td>Consumer Cyclical</td>\n",
              "      <td>https://financialmodelingprep.com/images-New-j...</td>\n",
              "    </tr>\n",
              "    <tr>\n",
              "      <th>2</th>\n",
              "      <td>KMI</td>\n",
              "      <td>13.75</td>\n",
              "      <td>0.755480</td>\n",
              "      <td>18834814</td>\n",
              "      <td>3.114458e+10</td>\n",
              "      <td>0.800000</td>\n",
              "      <td>9.42-22.58</td>\n",
              "      <td>-0.73</td>\n",
              "      <td>(-5.04%)</td>\n",
              "      <td>Kinder Morgan Inc.</td>\n",
              "      <td>New York Stock Exchange</td>\n",
              "      <td>Oil &amp; Gas - Midstream</td>\n",
              "      <td>http://www.kindermorgan.com</td>\n",
              "      <td>Kinder Morgan Inc is an energy infrastructure ...</td>\n",
              "      <td>Steven J. Kean</td>\n",
              "      <td>Energy</td>\n",
              "      <td>https://financialmodelingprep.com/images-New-j...</td>\n",
              "    </tr>\n",
              "  </tbody>\n",
              "</table>\n",
              "</div>"
            ],
            "text/plain": [
              "  symbol  ...                                      profile.image\n",
              "0    SPY  ...  https://financialmodelingprep.com/images-New-j...\n",
              "1  CMCSA  ...  https://financialmodelingprep.com/images-New-j...\n",
              "2    KMI  ...  https://financialmodelingprep.com/images-New-j...\n",
              "\n",
              "[3 rows x 17 columns]"
            ]
          },
          "metadata": {
            "tags": []
          },
          "execution_count": 12
        }
      ]
    },
    {
      "cell_type": "code",
      "metadata": {
        "id": "xZ_wVqCV_ANq",
        "colab_type": "code",
        "outputId": "03282b44-8343-4630-ac01-4f156245a924",
        "colab": {
          "base_uri": "https://localhost:8080/",
          "height": 281
        }
      },
      "source": [
        "quote_df.head(3)"
      ],
      "execution_count": 0,
      "outputs": [
        {
          "output_type": "execute_result",
          "data": {
            "text/html": [
              "<div>\n",
              "<style scoped>\n",
              "    .dataframe tbody tr th:only-of-type {\n",
              "        vertical-align: middle;\n",
              "    }\n",
              "\n",
              "    .dataframe tbody tr th {\n",
              "        vertical-align: top;\n",
              "    }\n",
              "\n",
              "    .dataframe thead th {\n",
              "        text-align: right;\n",
              "    }\n",
              "</style>\n",
              "<table border=\"1\" class=\"dataframe\">\n",
              "  <thead>\n",
              "    <tr style=\"text-align: right;\">\n",
              "      <th></th>\n",
              "      <th>symbol</th>\n",
              "      <th>name</th>\n",
              "      <th>price</th>\n",
              "      <th>changesPercentage</th>\n",
              "      <th>change</th>\n",
              "      <th>dayLow</th>\n",
              "      <th>dayHigh</th>\n",
              "      <th>yearHigh</th>\n",
              "      <th>yearLow</th>\n",
              "      <th>marketCap</th>\n",
              "      <th>priceAvg50</th>\n",
              "      <th>priceAvg200</th>\n",
              "      <th>volume</th>\n",
              "      <th>avgVolume</th>\n",
              "      <th>exhange</th>\n",
              "      <th>open</th>\n",
              "      <th>previousClose</th>\n",
              "      <th>eps</th>\n",
              "      <th>pe</th>\n",
              "      <th>earningsAnnouncement</th>\n",
              "      <th>sharesOutstanding</th>\n",
              "      <th>timestamp</th>\n",
              "    </tr>\n",
              "  </thead>\n",
              "  <tbody>\n",
              "    <tr>\n",
              "      <th>0</th>\n",
              "      <td>AAPL</td>\n",
              "      <td>Apple Inc.</td>\n",
              "      <td>247.74</td>\n",
              "      <td>-4.14</td>\n",
              "      <td>-10.70</td>\n",
              "      <td>247.0500</td>\n",
              "      <td>255.87</td>\n",
              "      <td>327.85</td>\n",
              "      <td>170.27</td>\n",
              "      <td>1.083981e+12</td>\n",
              "      <td>282.98972</td>\n",
              "      <td>269.801360</td>\n",
              "      <td>51054153.0</td>\n",
              "      <td>48846970.0</td>\n",
              "      <td>NASDAQ</td>\n",
              "      <td>252.75</td>\n",
              "      <td>258.44</td>\n",
              "      <td>12.595</td>\n",
              "      <td>19.669710</td>\n",
              "      <td>2020-01-28T21:30:00.000+0000</td>\n",
              "      <td>4.375480e+09</td>\n",
              "      <td>2020-03-28 20:53:56</td>\n",
              "    </tr>\n",
              "    <tr>\n",
              "      <th>1</th>\n",
              "      <td>GM</td>\n",
              "      <td>General Motors Company</td>\n",
              "      <td>21.38</td>\n",
              "      <td>-5.23</td>\n",
              "      <td>-1.18</td>\n",
              "      <td>20.7400</td>\n",
              "      <td>21.96</td>\n",
              "      <td>41.90</td>\n",
              "      <td>14.33</td>\n",
              "      <td>3.055202e+10</td>\n",
              "      <td>28.04800</td>\n",
              "      <td>34.143955</td>\n",
              "      <td>17773517.0</td>\n",
              "      <td>14820266.0</td>\n",
              "      <td>NYSE</td>\n",
              "      <td>21.37</td>\n",
              "      <td>22.56</td>\n",
              "      <td>4.570</td>\n",
              "      <td>4.678337</td>\n",
              "      <td>2020-05-06T16:30:00.000+0000</td>\n",
              "      <td>1.428780e+09</td>\n",
              "      <td>2020-03-28 20:53:56</td>\n",
              "    </tr>\n",
              "    <tr>\n",
              "      <th>2</th>\n",
              "      <td>TVIX</td>\n",
              "      <td>VelocityShares Daily 2x VIX Short-Term ETN</td>\n",
              "      <td>376.00</td>\n",
              "      <td>13.94</td>\n",
              "      <td>46.00</td>\n",
              "      <td>353.4101</td>\n",
              "      <td>384.40</td>\n",
              "      <td>1000.00</td>\n",
              "      <td>38.33</td>\n",
              "      <td>NaN</td>\n",
              "      <td>228.78085</td>\n",
              "      <td>119.914030</td>\n",
              "      <td>3432491.0</td>\n",
              "      <td>12579864.0</td>\n",
              "      <td>NASDAQ</td>\n",
              "      <td>379.60</td>\n",
              "      <td>330.00</td>\n",
              "      <td>NaN</td>\n",
              "      <td>NaN</td>\n",
              "      <td>NaN</td>\n",
              "      <td>NaN</td>\n",
              "      <td>2020-03-28 20:53:56</td>\n",
              "    </tr>\n",
              "  </tbody>\n",
              "</table>\n",
              "</div>"
            ],
            "text/plain": [
              "  symbol  ...            timestamp\n",
              "0   AAPL  ...  2020-03-28 20:53:56\n",
              "1     GM  ...  2020-03-28 20:53:56\n",
              "2   TVIX  ...  2020-03-28 20:53:56\n",
              "\n",
              "[3 rows x 22 columns]"
            ]
          },
          "metadata": {
            "tags": []
          },
          "execution_count": 13
        }
      ]
    },
    {
      "cell_type": "markdown",
      "metadata": {
        "id": "vwz_il2q_RSo",
        "colab_type": "text"
      },
      "source": [
        "Now we can join all our three dataframes to create a new combined dataframe to start analysis."
      ]
    },
    {
      "cell_type": "code",
      "metadata": {
        "id": "40QA-Dwr_CUU",
        "colab_type": "code",
        "outputId": "0a1804f5-c507-445d-ced7-1a00c3a0cdf5",
        "colab": {
          "base_uri": "https://localhost:8080/",
          "height": 459
        }
      },
      "source": [
        "stock_market_df = symbols_df.set_index('symbol').join(company_profile_df.set_index('symbol'))\n",
        "stock_market_df = stock_market_df.join(quote_df.set_index('symbol'),rsuffix='_base') # suffix for name and price repetition\n",
        "stock_market_df.head()"
      ],
      "execution_count": 0,
      "outputs": [
        {
          "output_type": "execute_result",
          "data": {
            "text/html": [
              "<div>\n",
              "<style scoped>\n",
              "    .dataframe tbody tr th:only-of-type {\n",
              "        vertical-align: middle;\n",
              "    }\n",
              "\n",
              "    .dataframe tbody tr th {\n",
              "        vertical-align: top;\n",
              "    }\n",
              "\n",
              "    .dataframe thead th {\n",
              "        text-align: right;\n",
              "    }\n",
              "</style>\n",
              "<table border=\"1\" class=\"dataframe\">\n",
              "  <thead>\n",
              "    <tr style=\"text-align: right;\">\n",
              "      <th></th>\n",
              "      <th>name</th>\n",
              "      <th>price</th>\n",
              "      <th>exchange</th>\n",
              "      <th>profile.price</th>\n",
              "      <th>profile.beta</th>\n",
              "      <th>profile.volAvg</th>\n",
              "      <th>profile.mktCap</th>\n",
              "      <th>profile.lastDiv</th>\n",
              "      <th>profile.range</th>\n",
              "      <th>profile.changes</th>\n",
              "      <th>profile.changesPercentage</th>\n",
              "      <th>profile.companyName</th>\n",
              "      <th>profile.exchange</th>\n",
              "      <th>profile.industry</th>\n",
              "      <th>profile.website</th>\n",
              "      <th>profile.description</th>\n",
              "      <th>profile.ceo</th>\n",
              "      <th>profile.sector</th>\n",
              "      <th>profile.image</th>\n",
              "      <th>name_base</th>\n",
              "      <th>price_base</th>\n",
              "      <th>changesPercentage</th>\n",
              "      <th>change</th>\n",
              "      <th>dayLow</th>\n",
              "      <th>dayHigh</th>\n",
              "      <th>yearHigh</th>\n",
              "      <th>yearLow</th>\n",
              "      <th>marketCap</th>\n",
              "      <th>priceAvg50</th>\n",
              "      <th>priceAvg200</th>\n",
              "      <th>volume</th>\n",
              "      <th>avgVolume</th>\n",
              "      <th>exhange</th>\n",
              "      <th>open</th>\n",
              "      <th>previousClose</th>\n",
              "      <th>eps</th>\n",
              "      <th>pe</th>\n",
              "      <th>earningsAnnouncement</th>\n",
              "      <th>sharesOutstanding</th>\n",
              "      <th>timestamp</th>\n",
              "    </tr>\n",
              "    <tr>\n",
              "      <th>symbol</th>\n",
              "      <th></th>\n",
              "      <th></th>\n",
              "      <th></th>\n",
              "      <th></th>\n",
              "      <th></th>\n",
              "      <th></th>\n",
              "      <th></th>\n",
              "      <th></th>\n",
              "      <th></th>\n",
              "      <th></th>\n",
              "      <th></th>\n",
              "      <th></th>\n",
              "      <th></th>\n",
              "      <th></th>\n",
              "      <th></th>\n",
              "      <th></th>\n",
              "      <th></th>\n",
              "      <th></th>\n",
              "      <th></th>\n",
              "      <th></th>\n",
              "      <th></th>\n",
              "      <th></th>\n",
              "      <th></th>\n",
              "      <th></th>\n",
              "      <th></th>\n",
              "      <th></th>\n",
              "      <th></th>\n",
              "      <th></th>\n",
              "      <th></th>\n",
              "      <th></th>\n",
              "      <th></th>\n",
              "      <th></th>\n",
              "      <th></th>\n",
              "      <th></th>\n",
              "      <th></th>\n",
              "      <th></th>\n",
              "      <th></th>\n",
              "      <th></th>\n",
              "      <th></th>\n",
              "      <th></th>\n",
              "    </tr>\n",
              "  </thead>\n",
              "  <tbody>\n",
              "    <tr>\n",
              "      <th>SPY</th>\n",
              "      <td>SPDR S&amp;P 500</td>\n",
              "      <td>254.00</td>\n",
              "      <td>NYSE Arca</td>\n",
              "      <td>254.00</td>\n",
              "      <td>0.999041</td>\n",
              "      <td>147892704</td>\n",
              "      <td>2.331166e+11</td>\n",
              "      <td>5.066805</td>\n",
              "      <td>218.26-339.08</td>\n",
              "      <td>-7.20</td>\n",
              "      <td>(-2.76%)</td>\n",
              "      <td>SPDR S&amp;P 500</td>\n",
              "      <td>NYSE Arca</td>\n",
              "      <td>NaN</td>\n",
              "      <td>http://www.spdrs.com</td>\n",
              "      <td>The investment seeks to provide investment res...</td>\n",
              "      <td>NaN</td>\n",
              "      <td>NaN</td>\n",
              "      <td>https://financialmodelingprep.com/images-New-j...</td>\n",
              "      <td>SPDR S&amp;P 500 ETF Trust</td>\n",
              "      <td>253.42</td>\n",
              "      <td>-2.98</td>\n",
              "      <td>-7.78</td>\n",
              "      <td>251.0794</td>\n",
              "      <td>260.81</td>\n",
              "      <td>339.08</td>\n",
              "      <td>218.26</td>\n",
              "      <td>2.325843e+11</td>\n",
              "      <td>291.602300</td>\n",
              "      <td>306.349370</td>\n",
              "      <td>224341217.0</td>\n",
              "      <td>147892704.0</td>\n",
              "      <td>NYSE</td>\n",
              "      <td>253.27</td>\n",
              "      <td>261.20</td>\n",
              "      <td>NaN</td>\n",
              "      <td>NaN</td>\n",
              "      <td>NaN</td>\n",
              "      <td>9.177820e+08</td>\n",
              "      <td>2020-03-28 20:53:56</td>\n",
              "    </tr>\n",
              "    <tr>\n",
              "      <th>CMCSA</th>\n",
              "      <td>Comcast Corporation Class A Common Stock</td>\n",
              "      <td>34.57</td>\n",
              "      <td>Nasdaq Global Select</td>\n",
              "      <td>34.57</td>\n",
              "      <td>1.061551</td>\n",
              "      <td>28335354</td>\n",
              "      <td>1.573983e+11</td>\n",
              "      <td>0.840000</td>\n",
              "      <td>31.71-47.74</td>\n",
              "      <td>-2.17</td>\n",
              "      <td>(-5.91%)</td>\n",
              "      <td>Comcast Corporation Class A Common Stock</td>\n",
              "      <td>Nasdaq Global Select</td>\n",
              "      <td>Entertainment</td>\n",
              "      <td>https://corporate.comcast.com</td>\n",
              "      <td>Comcast Corp is a media and technology company...</td>\n",
              "      <td>Brian L. Roberts</td>\n",
              "      <td>Consumer Cyclical</td>\n",
              "      <td>https://financialmodelingprep.com/images-New-j...</td>\n",
              "      <td>Comcast Corporation</td>\n",
              "      <td>34.57</td>\n",
              "      <td>-5.91</td>\n",
              "      <td>-2.17</td>\n",
              "      <td>34.4100</td>\n",
              "      <td>35.79</td>\n",
              "      <td>47.74</td>\n",
              "      <td>31.71</td>\n",
              "      <td>1.573983e+11</td>\n",
              "      <td>40.500000</td>\n",
              "      <td>43.789280</td>\n",
              "      <td>27174264.0</td>\n",
              "      <td>28335354.0</td>\n",
              "      <td>NASDAQ</td>\n",
              "      <td>35.59</td>\n",
              "      <td>36.74</td>\n",
              "      <td>2.830</td>\n",
              "      <td>12.215548</td>\n",
              "      <td>2020-01-23T12:00:00.000+0000</td>\n",
              "      <td>4.543590e+09</td>\n",
              "      <td>2020-03-28 20:53:56</td>\n",
              "    </tr>\n",
              "    <tr>\n",
              "      <th>KMI</th>\n",
              "      <td>Kinder Morgan Inc.</td>\n",
              "      <td>13.75</td>\n",
              "      <td>New York Stock Exchange</td>\n",
              "      <td>13.75</td>\n",
              "      <td>0.755480</td>\n",
              "      <td>18834814</td>\n",
              "      <td>3.114458e+10</td>\n",
              "      <td>0.800000</td>\n",
              "      <td>9.42-22.58</td>\n",
              "      <td>-0.73</td>\n",
              "      <td>(-5.04%)</td>\n",
              "      <td>Kinder Morgan Inc.</td>\n",
              "      <td>New York Stock Exchange</td>\n",
              "      <td>Oil &amp; Gas - Midstream</td>\n",
              "      <td>http://www.kindermorgan.com</td>\n",
              "      <td>Kinder Morgan Inc is an energy infrastructure ...</td>\n",
              "      <td>Steven J. Kean</td>\n",
              "      <td>Energy</td>\n",
              "      <td>https://financialmodelingprep.com/images-New-j...</td>\n",
              "      <td>Kinder Morgan, Inc.</td>\n",
              "      <td>13.75</td>\n",
              "      <td>-5.04</td>\n",
              "      <td>-0.73</td>\n",
              "      <td>13.5900</td>\n",
              "      <td>14.36</td>\n",
              "      <td>22.58</td>\n",
              "      <td>9.42</td>\n",
              "      <td>3.114458e+10</td>\n",
              "      <td>17.732286</td>\n",
              "      <td>19.834461</td>\n",
              "      <td>20263647.0</td>\n",
              "      <td>18834814.0</td>\n",
              "      <td>NYSE</td>\n",
              "      <td>13.76</td>\n",
              "      <td>14.48</td>\n",
              "      <td>0.962</td>\n",
              "      <td>14.293139</td>\n",
              "      <td>2020-01-22T21:05:00.000+0000</td>\n",
              "      <td>2.264970e+09</td>\n",
              "      <td>2020-03-28 20:53:56</td>\n",
              "    </tr>\n",
              "    <tr>\n",
              "      <th>INTC</th>\n",
              "      <td>Intel Corporation</td>\n",
              "      <td>52.37</td>\n",
              "      <td>Nasdaq Global Select</td>\n",
              "      <td>52.37</td>\n",
              "      <td>0.909780</td>\n",
              "      <td>30390003</td>\n",
              "      <td>2.239865e+11</td>\n",
              "      <td>1.260000</td>\n",
              "      <td>42.86-69.29</td>\n",
              "      <td>-3.17</td>\n",
              "      <td>(-5.71%)</td>\n",
              "      <td>Intel Corporation</td>\n",
              "      <td>Nasdaq Global Select</td>\n",
              "      <td>Semiconductors</td>\n",
              "      <td>http://www.intel.com</td>\n",
              "      <td>Intel Corp is the world's largest chipmaker. I...</td>\n",
              "      <td>Brian M. Krzanich</td>\n",
              "      <td>Technology</td>\n",
              "      <td>https://financialmodelingprep.com/images-New-j...</td>\n",
              "      <td>Intel Corporation</td>\n",
              "      <td>52.37</td>\n",
              "      <td>-5.71</td>\n",
              "      <td>-3.17</td>\n",
              "      <td>52.0650</td>\n",
              "      <td>54.64</td>\n",
              "      <td>69.29</td>\n",
              "      <td>42.86</td>\n",
              "      <td>2.239865e+11</td>\n",
              "      <td>56.993140</td>\n",
              "      <td>56.927628</td>\n",
              "      <td>31633487.0</td>\n",
              "      <td>30390003.0</td>\n",
              "      <td>NASDAQ</td>\n",
              "      <td>53.42</td>\n",
              "      <td>55.54</td>\n",
              "      <td>4.710</td>\n",
              "      <td>11.118896</td>\n",
              "      <td>2020-04-24T00:00:00.000+0000</td>\n",
              "      <td>4.350000e+09</td>\n",
              "      <td>2020-03-28 20:53:56</td>\n",
              "    </tr>\n",
              "    <tr>\n",
              "      <th>MU</th>\n",
              "      <td>Micron Technology Inc.</td>\n",
              "      <td>43.48</td>\n",
              "      <td>Nasdaq Global Select</td>\n",
              "      <td>43.48</td>\n",
              "      <td>1.951096</td>\n",
              "      <td>29145220</td>\n",
              "      <td>4.830063e+10</td>\n",
              "      <td>0.000000</td>\n",
              "      <td>31.13-61.19</td>\n",
              "      <td>-1.31</td>\n",
              "      <td>(-2.92%)</td>\n",
              "      <td>Micron Technology Inc.</td>\n",
              "      <td>Nasdaq Global Select</td>\n",
              "      <td>Semiconductors</td>\n",
              "      <td>http://www.micron.com</td>\n",
              "      <td>Micron Technology Inc along with its subsidiar...</td>\n",
              "      <td>NaN</td>\n",
              "      <td>Technology</td>\n",
              "      <td>https://financialmodelingprep.com/images-New-j...</td>\n",
              "      <td>Micron Technology, Inc.</td>\n",
              "      <td>43.48</td>\n",
              "      <td>-2.92</td>\n",
              "      <td>-1.31</td>\n",
              "      <td>42.3100</td>\n",
              "      <td>45.28</td>\n",
              "      <td>61.19</td>\n",
              "      <td>31.13</td>\n",
              "      <td>4.830063e+10</td>\n",
              "      <td>49.210285</td>\n",
              "      <td>49.834170</td>\n",
              "      <td>39791531.0</td>\n",
              "      <td>29145220.0</td>\n",
              "      <td>NASDAQ</td>\n",
              "      <td>43.25</td>\n",
              "      <td>44.79</td>\n",
              "      <td>2.025</td>\n",
              "      <td>21.471603</td>\n",
              "      <td>2020-03-25T20:01:10.000+0000</td>\n",
              "      <td>1.110870e+09</td>\n",
              "      <td>2020-03-28 20:53:56</td>\n",
              "    </tr>\n",
              "  </tbody>\n",
              "</table>\n",
              "</div>"
            ],
            "text/plain": [
              "                                            name  ...            timestamp\n",
              "symbol                                            ...                     \n",
              "SPY                                 SPDR S&P 500  ...  2020-03-28 20:53:56\n",
              "CMCSA   Comcast Corporation Class A Common Stock  ...  2020-03-28 20:53:56\n",
              "KMI                           Kinder Morgan Inc.  ...  2020-03-28 20:53:56\n",
              "INTC                           Intel Corporation  ...  2020-03-28 20:53:56\n",
              "MU                        Micron Technology Inc.  ...  2020-03-28 20:53:56\n",
              "\n",
              "[5 rows x 40 columns]"
            ]
          },
          "metadata": {
            "tags": []
          },
          "execution_count": 14
        }
      ]
    },
    {
      "cell_type": "code",
      "metadata": {
        "id": "f74VPKD1BIh_",
        "colab_type": "code",
        "outputId": "e73e59b9-1dd8-42e2-f677-8a446fd023b2",
        "colab": {
          "base_uri": "https://localhost:8080/",
          "height": 34
        }
      },
      "source": [
        "stock_market_df.shape"
      ],
      "execution_count": 0,
      "outputs": [
        {
          "output_type": "execute_result",
          "data": {
            "text/plain": [
              "(13111, 40)"
            ]
          },
          "metadata": {
            "tags": []
          },
          "execution_count": 15
        }
      ]
    },
    {
      "cell_type": "markdown",
      "metadata": {
        "id": "BAXFD5RoLPCI",
        "colab_type": "text"
      },
      "source": [
        "The stock_market_df contains duplicate columns and all the column names from company_profile_df have \"profile.\" as prefix. So, we need to give standard stucture to the dataframe."
      ]
    },
    {
      "cell_type": "code",
      "metadata": {
        "id": "QTgJ6xA6LpIR",
        "colab_type": "code",
        "colab": {}
      },
      "source": [
        "stock_market_df = stock_market_df.drop(['name_base','price_base','profile.price','profile.exchange','profile.mktCap',\n",
        "                                        'profile.companyName','exhange','profile.volAvg','profile.changes','profile.changesPercentage'],axis=1)\n",
        "stock_market_df.rename(columns={'profile.beta':'beta','profile.lastDiv':'lastDiv','profile.range':'range','profile.industry':'industry',\n",
        "                                'profile.website':'website','profile.description':'description','profile.ceo':'ceo','profile.sector':'sector',\n",
        "                                'profile.image':'image'},inplace=True)"
      ],
      "execution_count": 0,
      "outputs": []
    },
    {
      "cell_type": "code",
      "metadata": {
        "id": "Qz9CWoZtPUts",
        "colab_type": "code",
        "outputId": "782c9a36-cb23-40f6-951a-c2a3485f08a9",
        "colab": {
          "base_uri": "https://localhost:8080/",
          "height": 315
        }
      },
      "source": [
        "stock_market_df.head(2)"
      ],
      "execution_count": 0,
      "outputs": [
        {
          "output_type": "execute_result",
          "data": {
            "text/html": [
              "<div>\n",
              "<style scoped>\n",
              "    .dataframe tbody tr th:only-of-type {\n",
              "        vertical-align: middle;\n",
              "    }\n",
              "\n",
              "    .dataframe tbody tr th {\n",
              "        vertical-align: top;\n",
              "    }\n",
              "\n",
              "    .dataframe thead th {\n",
              "        text-align: right;\n",
              "    }\n",
              "</style>\n",
              "<table border=\"1\" class=\"dataframe\">\n",
              "  <thead>\n",
              "    <tr style=\"text-align: right;\">\n",
              "      <th></th>\n",
              "      <th>name</th>\n",
              "      <th>price</th>\n",
              "      <th>exchange</th>\n",
              "      <th>beta</th>\n",
              "      <th>lastDiv</th>\n",
              "      <th>range</th>\n",
              "      <th>industry</th>\n",
              "      <th>website</th>\n",
              "      <th>description</th>\n",
              "      <th>ceo</th>\n",
              "      <th>sector</th>\n",
              "      <th>image</th>\n",
              "      <th>changesPercentage</th>\n",
              "      <th>change</th>\n",
              "      <th>dayLow</th>\n",
              "      <th>dayHigh</th>\n",
              "      <th>yearHigh</th>\n",
              "      <th>yearLow</th>\n",
              "      <th>marketCap</th>\n",
              "      <th>priceAvg50</th>\n",
              "      <th>priceAvg200</th>\n",
              "      <th>volume</th>\n",
              "      <th>avgVolume</th>\n",
              "      <th>open</th>\n",
              "      <th>previousClose</th>\n",
              "      <th>eps</th>\n",
              "      <th>pe</th>\n",
              "      <th>earningsAnnouncement</th>\n",
              "      <th>sharesOutstanding</th>\n",
              "      <th>timestamp</th>\n",
              "    </tr>\n",
              "    <tr>\n",
              "      <th>symbol</th>\n",
              "      <th></th>\n",
              "      <th></th>\n",
              "      <th></th>\n",
              "      <th></th>\n",
              "      <th></th>\n",
              "      <th></th>\n",
              "      <th></th>\n",
              "      <th></th>\n",
              "      <th></th>\n",
              "      <th></th>\n",
              "      <th></th>\n",
              "      <th></th>\n",
              "      <th></th>\n",
              "      <th></th>\n",
              "      <th></th>\n",
              "      <th></th>\n",
              "      <th></th>\n",
              "      <th></th>\n",
              "      <th></th>\n",
              "      <th></th>\n",
              "      <th></th>\n",
              "      <th></th>\n",
              "      <th></th>\n",
              "      <th></th>\n",
              "      <th></th>\n",
              "      <th></th>\n",
              "      <th></th>\n",
              "      <th></th>\n",
              "      <th></th>\n",
              "      <th></th>\n",
              "    </tr>\n",
              "  </thead>\n",
              "  <tbody>\n",
              "    <tr>\n",
              "      <th>SPY</th>\n",
              "      <td>SPDR S&amp;P 500</td>\n",
              "      <td>254.00</td>\n",
              "      <td>NYSE Arca</td>\n",
              "      <td>0.999041</td>\n",
              "      <td>5.066805</td>\n",
              "      <td>218.26-339.08</td>\n",
              "      <td>NaN</td>\n",
              "      <td>http://www.spdrs.com</td>\n",
              "      <td>The investment seeks to provide investment res...</td>\n",
              "      <td>NaN</td>\n",
              "      <td>NaN</td>\n",
              "      <td>https://financialmodelingprep.com/images-New-j...</td>\n",
              "      <td>-2.98</td>\n",
              "      <td>-7.78</td>\n",
              "      <td>251.0794</td>\n",
              "      <td>260.81</td>\n",
              "      <td>339.08</td>\n",
              "      <td>218.26</td>\n",
              "      <td>2.325843e+11</td>\n",
              "      <td>291.6023</td>\n",
              "      <td>306.34937</td>\n",
              "      <td>224341217.0</td>\n",
              "      <td>147892704.0</td>\n",
              "      <td>253.27</td>\n",
              "      <td>261.20</td>\n",
              "      <td>NaN</td>\n",
              "      <td>NaN</td>\n",
              "      <td>NaN</td>\n",
              "      <td>9.177820e+08</td>\n",
              "      <td>2020-03-28 20:53:56</td>\n",
              "    </tr>\n",
              "    <tr>\n",
              "      <th>CMCSA</th>\n",
              "      <td>Comcast Corporation Class A Common Stock</td>\n",
              "      <td>34.57</td>\n",
              "      <td>Nasdaq Global Select</td>\n",
              "      <td>1.061551</td>\n",
              "      <td>0.840000</td>\n",
              "      <td>31.71-47.74</td>\n",
              "      <td>Entertainment</td>\n",
              "      <td>https://corporate.comcast.com</td>\n",
              "      <td>Comcast Corp is a media and technology company...</td>\n",
              "      <td>Brian L. Roberts</td>\n",
              "      <td>Consumer Cyclical</td>\n",
              "      <td>https://financialmodelingprep.com/images-New-j...</td>\n",
              "      <td>-5.91</td>\n",
              "      <td>-2.17</td>\n",
              "      <td>34.4100</td>\n",
              "      <td>35.79</td>\n",
              "      <td>47.74</td>\n",
              "      <td>31.71</td>\n",
              "      <td>1.573983e+11</td>\n",
              "      <td>40.5000</td>\n",
              "      <td>43.78928</td>\n",
              "      <td>27174264.0</td>\n",
              "      <td>28335354.0</td>\n",
              "      <td>35.59</td>\n",
              "      <td>36.74</td>\n",
              "      <td>2.83</td>\n",
              "      <td>12.215548</td>\n",
              "      <td>2020-01-23T12:00:00.000+0000</td>\n",
              "      <td>4.543590e+09</td>\n",
              "      <td>2020-03-28 20:53:56</td>\n",
              "    </tr>\n",
              "  </tbody>\n",
              "</table>\n",
              "</div>"
            ],
            "text/plain": [
              "                                            name  ...            timestamp\n",
              "symbol                                            ...                     \n",
              "SPY                                 SPDR S&P 500  ...  2020-03-28 20:53:56\n",
              "CMCSA   Comcast Corporation Class A Common Stock  ...  2020-03-28 20:53:56\n",
              "\n",
              "[2 rows x 30 columns]"
            ]
          },
          "metadata": {
            "tags": []
          },
          "execution_count": 17
        }
      ]
    },
    {
      "cell_type": "code",
      "metadata": {
        "id": "1zGtCPeqQAkj",
        "colab_type": "code",
        "outputId": "b6b7f86e-4c7a-4602-f8d8-684fbd413c26",
        "colab": {
          "base_uri": "https://localhost:8080/",
          "height": 558
        }
      },
      "source": [
        "display(stock_market_df.select_dtypes(include=[np.number]).describe())\n",
        "display(stock_market_df.select_dtypes(include=[np.object]).describe())"
      ],
      "execution_count": 0,
      "outputs": [
        {
          "output_type": "display_data",
          "data": {
            "text/html": [
              "<div>\n",
              "<style scoped>\n",
              "    .dataframe tbody tr th:only-of-type {\n",
              "        vertical-align: middle;\n",
              "    }\n",
              "\n",
              "    .dataframe tbody tr th {\n",
              "        vertical-align: top;\n",
              "    }\n",
              "\n",
              "    .dataframe thead th {\n",
              "        text-align: right;\n",
              "    }\n",
              "</style>\n",
              "<table border=\"1\" class=\"dataframe\">\n",
              "  <thead>\n",
              "    <tr style=\"text-align: right;\">\n",
              "      <th></th>\n",
              "      <th>price</th>\n",
              "      <th>beta</th>\n",
              "      <th>lastDiv</th>\n",
              "      <th>changesPercentage</th>\n",
              "      <th>change</th>\n",
              "      <th>dayLow</th>\n",
              "      <th>dayHigh</th>\n",
              "      <th>yearHigh</th>\n",
              "      <th>yearLow</th>\n",
              "      <th>marketCap</th>\n",
              "      <th>priceAvg50</th>\n",
              "      <th>priceAvg200</th>\n",
              "      <th>volume</th>\n",
              "      <th>avgVolume</th>\n",
              "      <th>open</th>\n",
              "      <th>previousClose</th>\n",
              "      <th>eps</th>\n",
              "      <th>pe</th>\n",
              "      <th>sharesOutstanding</th>\n",
              "    </tr>\n",
              "  </thead>\n",
              "  <tbody>\n",
              "    <tr>\n",
              "      <th>count</th>\n",
              "      <td>13111.000000</td>\n",
              "      <td>9945.000000</td>\n",
              "      <td>7936.000000</td>\n",
              "      <td>12001.000000</td>\n",
              "      <td>11985.000000</td>\n",
              "      <td>10471.000000</td>\n",
              "      <td>10472.000000</td>\n",
              "      <td>11985.000000</td>\n",
              "      <td>11985.000000</td>\n",
              "      <td>7.967000e+03</td>\n",
              "      <td>11889.000000</td>\n",
              "      <td>11891.000000</td>\n",
              "      <td>1.047400e+04</td>\n",
              "      <td>1.188900e+04</td>\n",
              "      <td>10458.000000</td>\n",
              "      <td>11974.000000</td>\n",
              "      <td>7182.000000</td>\n",
              "      <td>4463.000000</td>\n",
              "      <td>7.951000e+03</td>\n",
              "    </tr>\n",
              "    <tr>\n",
              "      <th>mean</th>\n",
              "      <td>54.006376</td>\n",
              "      <td>1.213666</td>\n",
              "      <td>0.651851</td>\n",
              "      <td>-2.465757</td>\n",
              "      <td>-1.416184</td>\n",
              "      <td>59.817787</td>\n",
              "      <td>62.391717</td>\n",
              "      <td>94.321687</td>\n",
              "      <td>48.067450</td>\n",
              "      <td>6.279736e+09</td>\n",
              "      <td>68.279832</td>\n",
              "      <td>72.415215</td>\n",
              "      <td>1.469493e+06</td>\n",
              "      <td>1.027449e+06</td>\n",
              "      <td>60.593879</td>\n",
              "      <td>58.009428</td>\n",
              "      <td>15.471725</td>\n",
              "      <td>40.949423</td>\n",
              "      <td>2.035117e+08</td>\n",
              "    </tr>\n",
              "    <tr>\n",
              "      <th>std</th>\n",
              "      <td>2345.859969</td>\n",
              "      <td>23.621458</td>\n",
              "      <td>0.990196</td>\n",
              "      <td>10.710553</td>\n",
              "      <td>73.043748</td>\n",
              "      <td>2599.771554</td>\n",
              "      <td>2700.492334</td>\n",
              "      <td>3248.614596</td>\n",
              "      <td>2191.571859</td>\n",
              "      <td>3.469322e+10</td>\n",
              "      <td>2817.080012</td>\n",
              "      <td>2966.576815</td>\n",
              "      <td>7.483297e+06</td>\n",
              "      <td>4.516386e+06</td>\n",
              "      <td>2621.318138</td>\n",
              "      <td>2527.363251</td>\n",
              "      <td>831.794468</td>\n",
              "      <td>421.849072</td>\n",
              "      <td>1.030887e+09</td>\n",
              "    </tr>\n",
              "    <tr>\n",
              "      <th>min</th>\n",
              "      <td>0.000000</td>\n",
              "      <td>-127.710380</td>\n",
              "      <td>0.000000</td>\n",
              "      <td>-100.000000</td>\n",
              "      <td>-7969.000000</td>\n",
              "      <td>0.000000</td>\n",
              "      <td>0.000000</td>\n",
              "      <td>0.005900</td>\n",
              "      <td>0.000000</td>\n",
              "      <td>0.000000e+00</td>\n",
              "      <td>0.000806</td>\n",
              "      <td>0.001000</td>\n",
              "      <td>0.000000e+00</td>\n",
              "      <td>0.000000e+00</td>\n",
              "      <td>0.000000</td>\n",
              "      <td>0.000000</td>\n",
              "      <td>-173.088000</td>\n",
              "      <td>0.000000</td>\n",
              "      <td>0.000000e+00</td>\n",
              "    </tr>\n",
              "    <tr>\n",
              "      <th>25%</th>\n",
              "      <td>6.380000</td>\n",
              "      <td>0.416040</td>\n",
              "      <td>0.000000</td>\n",
              "      <td>-4.790000</td>\n",
              "      <td>-0.976900</td>\n",
              "      <td>4.950000</td>\n",
              "      <td>5.403000</td>\n",
              "      <td>12.880000</td>\n",
              "      <td>4.465000</td>\n",
              "      <td>8.141853e+07</td>\n",
              "      <td>8.859428</td>\n",
              "      <td>9.875878</td>\n",
              "      <td>1.200775e+04</td>\n",
              "      <td>4.924000e+03</td>\n",
              "      <td>5.200000</td>\n",
              "      <td>6.700000</td>\n",
              "      <td>-0.418250</td>\n",
              "      <td>7.017216</td>\n",
              "      <td>1.551820e+07</td>\n",
              "    </tr>\n",
              "    <tr>\n",
              "      <th>50%</th>\n",
              "      <td>16.490000</td>\n",
              "      <td>0.881968</td>\n",
              "      <td>0.288549</td>\n",
              "      <td>-2.730000</td>\n",
              "      <td>-0.300000</td>\n",
              "      <td>14.800000</td>\n",
              "      <td>15.700000</td>\n",
              "      <td>25.800000</td>\n",
              "      <td>13.050000</td>\n",
              "      <td>3.873142e+08</td>\n",
              "      <td>20.155800</td>\n",
              "      <td>21.838848</td>\n",
              "      <td>1.191560e+05</td>\n",
              "      <td>7.517700e+04</td>\n",
              "      <td>15.225000</td>\n",
              "      <td>16.940000</td>\n",
              "      <td>0.460000</td>\n",
              "      <td>11.763117</td>\n",
              "      <td>4.282140e+07</td>\n",
              "    </tr>\n",
              "    <tr>\n",
              "      <th>75%</th>\n",
              "      <td>30.965000</td>\n",
              "      <td>1.306153</td>\n",
              "      <td>0.977295</td>\n",
              "      <td>0.000000</td>\n",
              "      <td>0.000000</td>\n",
              "      <td>30.140000</td>\n",
              "      <td>31.664825</td>\n",
              "      <td>48.880000</td>\n",
              "      <td>25.080000</td>\n",
              "      <td>2.299357e+09</td>\n",
              "      <td>37.194000</td>\n",
              "      <td>40.435757</td>\n",
              "      <td>7.050355e+05</td>\n",
              "      <td>5.403900e+05</td>\n",
              "      <td>30.797500</td>\n",
              "      <td>31.909675</td>\n",
              "      <td>2.070000</td>\n",
              "      <td>22.972452</td>\n",
              "      <td>1.208675e+08</td>\n",
              "    </tr>\n",
              "    <tr>\n",
              "      <th>max</th>\n",
              "      <td>268126.000000</td>\n",
              "      <td>2284.777800</td>\n",
              "      <td>18.000000</td>\n",
              "      <td>918.900000</td>\n",
              "      <td>559.990000</td>\n",
              "      <td>265558.620000</td>\n",
              "      <td>275882.500000</td>\n",
              "      <td>347400.000000</td>\n",
              "      <td>239440.000000</td>\n",
              "      <td>1.174977e+12</td>\n",
              "      <td>305744.840000</td>\n",
              "      <td>322112.800000</td>\n",
              "      <td>3.639679e+08</td>\n",
              "      <td>1.726143e+08</td>\n",
              "      <td>267600.000000</td>\n",
              "      <td>276095.000000</td>\n",
              "      <td>49828.453000</td>\n",
              "      <td>21049.998000</td>\n",
              "      <td>6.119990e+10</td>\n",
              "    </tr>\n",
              "  </tbody>\n",
              "</table>\n",
              "</div>"
            ],
            "text/plain": [
              "               price         beta  ...            pe  sharesOutstanding\n",
              "count   13111.000000  9945.000000  ...   4463.000000       7.951000e+03\n",
              "mean       54.006376     1.213666  ...     40.949423       2.035117e+08\n",
              "std      2345.859969    23.621458  ...    421.849072       1.030887e+09\n",
              "min         0.000000  -127.710380  ...      0.000000       0.000000e+00\n",
              "25%         6.380000     0.416040  ...      7.017216       1.551820e+07\n",
              "50%        16.490000     0.881968  ...     11.763117       4.282140e+07\n",
              "75%        30.965000     1.306153  ...     22.972452       1.208675e+08\n",
              "max    268126.000000  2284.777800  ...  21049.998000       6.119990e+10\n",
              "\n",
              "[8 rows x 19 columns]"
            ]
          },
          "metadata": {
            "tags": []
          }
        },
        {
          "output_type": "display_data",
          "data": {
            "text/html": [
              "<div>\n",
              "<style scoped>\n",
              "    .dataframe tbody tr th:only-of-type {\n",
              "        vertical-align: middle;\n",
              "    }\n",
              "\n",
              "    .dataframe tbody tr th {\n",
              "        vertical-align: top;\n",
              "    }\n",
              "\n",
              "    .dataframe thead th {\n",
              "        text-align: right;\n",
              "    }\n",
              "</style>\n",
              "<table border=\"1\" class=\"dataframe\">\n",
              "  <thead>\n",
              "    <tr style=\"text-align: right;\">\n",
              "      <th></th>\n",
              "      <th>name</th>\n",
              "      <th>exchange</th>\n",
              "      <th>range</th>\n",
              "      <th>industry</th>\n",
              "      <th>website</th>\n",
              "      <th>description</th>\n",
              "      <th>ceo</th>\n",
              "      <th>sector</th>\n",
              "      <th>image</th>\n",
              "      <th>earningsAnnouncement</th>\n",
              "      <th>timestamp</th>\n",
              "    </tr>\n",
              "  </thead>\n",
              "  <tbody>\n",
              "    <tr>\n",
              "      <th>count</th>\n",
              "      <td>13111</td>\n",
              "      <td>13111</td>\n",
              "      <td>13111</td>\n",
              "      <td>8325</td>\n",
              "      <td>10143</td>\n",
              "      <td>12866</td>\n",
              "      <td>4822</td>\n",
              "      <td>8325</td>\n",
              "      <td>13111</td>\n",
              "      <td>5330</td>\n",
              "      <td>12057</td>\n",
              "    </tr>\n",
              "    <tr>\n",
              "      <th>unique</th>\n",
              "      <td>12834</td>\n",
              "      <td>21</td>\n",
              "      <td>13050</td>\n",
              "      <td>234</td>\n",
              "      <td>7354</td>\n",
              "      <td>11686</td>\n",
              "      <td>4296</td>\n",
              "      <td>15</td>\n",
              "      <td>13111</td>\n",
              "      <td>2800</td>\n",
              "      <td>63</td>\n",
              "    </tr>\n",
              "    <tr>\n",
              "      <th>top</th>\n",
              "      <td>Brookfield Property Partners L.P.</td>\n",
              "      <td>New York Stock Exchange</td>\n",
              "      <td>0-0</td>\n",
              "      <td>Asset Management</td>\n",
              "      <td>http://www.ishares.com</td>\n",
              "      <td>The investment seeks to provide investors with...</td>\n",
              "      <td>John M. Perlowski</td>\n",
              "      <td>Financial Services</td>\n",
              "      <td>https://financialmodelingprep.com/images-New-j...</td>\n",
              "      <td>2020-03-13T00:00:00.000+0000</td>\n",
              "      <td>2020-03-28 20:54:37</td>\n",
              "    </tr>\n",
              "    <tr>\n",
              "      <th>freq</th>\n",
              "      <td>4</td>\n",
              "      <td>2602</td>\n",
              "      <td>3</td>\n",
              "      <td>777</td>\n",
              "      <td>337</td>\n",
              "      <td>12</td>\n",
              "      <td>70</td>\n",
              "      <td>1843</td>\n",
              "      <td>1</td>\n",
              "      <td>69</td>\n",
              "      <td>262</td>\n",
              "    </tr>\n",
              "  </tbody>\n",
              "</table>\n",
              "</div>"
            ],
            "text/plain": [
              "                                     name  ...            timestamp\n",
              "count                               13111  ...                12057\n",
              "unique                              12834  ...                   63\n",
              "top     Brookfield Property Partners L.P.  ...  2020-03-28 20:54:37\n",
              "freq                                    4  ...                  262\n",
              "\n",
              "[4 rows x 11 columns]"
            ]
          },
          "metadata": {
            "tags": []
          }
        }
      ]
    },
    {
      "cell_type": "markdown",
      "metadata": {
        "id": "N1EkiNXJSiwN",
        "colab_type": "text"
      },
      "source": [
        "Checking amount of nulls in each column."
      ]
    },
    {
      "cell_type": "code",
      "metadata": {
        "id": "k7D1LSBGSfSN",
        "colab_type": "code",
        "outputId": "5230bc95-7a44-4b82-e1e1-e333b8854673",
        "colab": {
          "base_uri": "https://localhost:8080/",
          "height": 544
        }
      },
      "source": [
        "stock_market_df.isnull().sum()"
      ],
      "execution_count": 0,
      "outputs": [
        {
          "output_type": "execute_result",
          "data": {
            "text/plain": [
              "name                       0\n",
              "price                      0\n",
              "exchange                   0\n",
              "beta                    3166\n",
              "lastDiv                 5175\n",
              "range                      0\n",
              "industry                4786\n",
              "website                 2968\n",
              "description              245\n",
              "ceo                     8289\n",
              "sector                  4786\n",
              "image                      0\n",
              "changesPercentage       1110\n",
              "change                  1126\n",
              "dayLow                  2640\n",
              "dayHigh                 2639\n",
              "yearHigh                1126\n",
              "yearLow                 1126\n",
              "marketCap               5144\n",
              "priceAvg50              1222\n",
              "priceAvg200             1220\n",
              "volume                  2637\n",
              "avgVolume               1222\n",
              "open                    2653\n",
              "previousClose           1137\n",
              "eps                     5929\n",
              "pe                      8648\n",
              "earningsAnnouncement    7781\n",
              "sharesOutstanding       5160\n",
              "timestamp               1054\n",
              "dtype: int64"
            ]
          },
          "metadata": {
            "tags": []
          },
          "execution_count": 22
        }
      ]
    },
    {
      "cell_type": "markdown",
      "metadata": {
        "id": "oQg6WmTtRcht",
        "colab_type": "text"
      },
      "source": [
        "From the above description of our data we can see a lot of columns have null values. For fixing this, there are many ways which include removing these rows, or filling them with a value like 0 or mean of the column. For this type of financial data filling a random value is not appropriate. We can select the columns we have to use for our analysis and then remove rows according to these columns."
      ]
    },
    {
      "cell_type": "markdown",
      "metadata": {
        "id": "nbTzcioFUy0G",
        "colab_type": "text"
      },
      "source": [
        "One common number of nulls is 1126 for yearHigh,yearLow and change. This can be inspected."
      ]
    },
    {
      "cell_type": "code",
      "metadata": {
        "id": "WSfKngqTTmsj",
        "colab_type": "code",
        "outputId": "a592ec89-65c3-44b8-c6b9-92e8a049a281",
        "colab": {
          "base_uri": "https://localhost:8080/",
          "height": 578
        }
      },
      "source": [
        "stock_market_df[stock_market_df['yearHigh'].isna()].head()"
      ],
      "execution_count": 0,
      "outputs": [
        {
          "output_type": "execute_result",
          "data": {
            "text/html": [
              "<div>\n",
              "<style scoped>\n",
              "    .dataframe tbody tr th:only-of-type {\n",
              "        vertical-align: middle;\n",
              "    }\n",
              "\n",
              "    .dataframe tbody tr th {\n",
              "        vertical-align: top;\n",
              "    }\n",
              "\n",
              "    .dataframe thead th {\n",
              "        text-align: right;\n",
              "    }\n",
              "</style>\n",
              "<table border=\"1\" class=\"dataframe\">\n",
              "  <thead>\n",
              "    <tr style=\"text-align: right;\">\n",
              "      <th></th>\n",
              "      <th>name</th>\n",
              "      <th>price</th>\n",
              "      <th>exchange</th>\n",
              "      <th>beta</th>\n",
              "      <th>lastDiv</th>\n",
              "      <th>range</th>\n",
              "      <th>industry</th>\n",
              "      <th>website</th>\n",
              "      <th>description</th>\n",
              "      <th>ceo</th>\n",
              "      <th>sector</th>\n",
              "      <th>image</th>\n",
              "      <th>changesPercentage</th>\n",
              "      <th>change</th>\n",
              "      <th>dayLow</th>\n",
              "      <th>dayHigh</th>\n",
              "      <th>yearHigh</th>\n",
              "      <th>yearLow</th>\n",
              "      <th>marketCap</th>\n",
              "      <th>priceAvg50</th>\n",
              "      <th>priceAvg200</th>\n",
              "      <th>volume</th>\n",
              "      <th>avgVolume</th>\n",
              "      <th>open</th>\n",
              "      <th>previousClose</th>\n",
              "      <th>eps</th>\n",
              "      <th>pe</th>\n",
              "      <th>earningsAnnouncement</th>\n",
              "      <th>sharesOutstanding</th>\n",
              "      <th>timestamp</th>\n",
              "    </tr>\n",
              "    <tr>\n",
              "      <th>symbol</th>\n",
              "      <th></th>\n",
              "      <th></th>\n",
              "      <th></th>\n",
              "      <th></th>\n",
              "      <th></th>\n",
              "      <th></th>\n",
              "      <th></th>\n",
              "      <th></th>\n",
              "      <th></th>\n",
              "      <th></th>\n",
              "      <th></th>\n",
              "      <th></th>\n",
              "      <th></th>\n",
              "      <th></th>\n",
              "      <th></th>\n",
              "      <th></th>\n",
              "      <th></th>\n",
              "      <th></th>\n",
              "      <th></th>\n",
              "      <th></th>\n",
              "      <th></th>\n",
              "      <th></th>\n",
              "      <th></th>\n",
              "      <th></th>\n",
              "      <th></th>\n",
              "      <th></th>\n",
              "      <th></th>\n",
              "      <th></th>\n",
              "      <th></th>\n",
              "      <th></th>\n",
              "    </tr>\n",
              "  </thead>\n",
              "  <tbody>\n",
              "    <tr>\n",
              "      <th>HK</th>\n",
              "      <td>Halcon Resources Corporation</td>\n",
              "      <td>0.19</td>\n",
              "      <td>New York Stock Exchange</td>\n",
              "      <td>3.749532</td>\n",
              "      <td>0.00</td>\n",
              "      <td>1.17-5.89</td>\n",
              "      <td>Oil &amp; Gas - E&amp;P</td>\n",
              "      <td>http://www.halconresources.com</td>\n",
              "      <td>Halcon Resources Corp is an independent oil an...</td>\n",
              "      <td>Floyd C. Wilson</td>\n",
              "      <td>Energy</td>\n",
              "      <td>https://financialmodelingprep.com/images-New-j...</td>\n",
              "      <td>NaN</td>\n",
              "      <td>NaN</td>\n",
              "      <td>NaN</td>\n",
              "      <td>NaN</td>\n",
              "      <td>NaN</td>\n",
              "      <td>NaN</td>\n",
              "      <td>NaN</td>\n",
              "      <td>NaN</td>\n",
              "      <td>NaN</td>\n",
              "      <td>NaN</td>\n",
              "      <td>NaN</td>\n",
              "      <td>NaN</td>\n",
              "      <td>NaN</td>\n",
              "      <td>NaN</td>\n",
              "      <td>NaN</td>\n",
              "      <td>NaN</td>\n",
              "      <td>NaN</td>\n",
              "      <td>NaN</td>\n",
              "    </tr>\n",
              "    <tr>\n",
              "      <th>WFT</th>\n",
              "      <td>Weatherford International plc (Ireland)</td>\n",
              "      <td>0.36</td>\n",
              "      <td>New York Stock Exchange</td>\n",
              "      <td>2.194283</td>\n",
              "      <td>0.00</td>\n",
              "      <td>0.2164-3.75</td>\n",
              "      <td>Oil &amp; Gas - Services</td>\n",
              "      <td>http://www.weatherford.com</td>\n",
              "      <td>Weatherford International PLC together with it...</td>\n",
              "      <td>Mark A. Mccollum</td>\n",
              "      <td>Energy</td>\n",
              "      <td>https://financialmodelingprep.com/images-New-j...</td>\n",
              "      <td>NaN</td>\n",
              "      <td>NaN</td>\n",
              "      <td>NaN</td>\n",
              "      <td>NaN</td>\n",
              "      <td>NaN</td>\n",
              "      <td>NaN</td>\n",
              "      <td>NaN</td>\n",
              "      <td>NaN</td>\n",
              "      <td>NaN</td>\n",
              "      <td>NaN</td>\n",
              "      <td>NaN</td>\n",
              "      <td>NaN</td>\n",
              "      <td>NaN</td>\n",
              "      <td>NaN</td>\n",
              "      <td>NaN</td>\n",
              "      <td>NaN</td>\n",
              "      <td>NaN</td>\n",
              "      <td>NaN</td>\n",
              "    </tr>\n",
              "    <tr>\n",
              "      <th>DWDP</th>\n",
              "      <td>DowDuPont Inc.</td>\n",
              "      <td>30.51</td>\n",
              "      <td>New York Stock Exchange</td>\n",
              "      <td>0.971702</td>\n",
              "      <td>1.52</td>\n",
              "      <td>36.09-71.93</td>\n",
              "      <td>Chemicals</td>\n",
              "      <td>http://www.dow-dupont.com</td>\n",
              "      <td>DowDuPont Inc is jointly owned by Dow and DuPo...</td>\n",
              "      <td>Edward D. Breen</td>\n",
              "      <td>Basic Materials</td>\n",
              "      <td>https://financialmodelingprep.com/images-New-j...</td>\n",
              "      <td>NaN</td>\n",
              "      <td>NaN</td>\n",
              "      <td>NaN</td>\n",
              "      <td>NaN</td>\n",
              "      <td>NaN</td>\n",
              "      <td>NaN</td>\n",
              "      <td>NaN</td>\n",
              "      <td>NaN</td>\n",
              "      <td>NaN</td>\n",
              "      <td>NaN</td>\n",
              "      <td>NaN</td>\n",
              "      <td>NaN</td>\n",
              "      <td>NaN</td>\n",
              "      <td>NaN</td>\n",
              "      <td>NaN</td>\n",
              "      <td>NaN</td>\n",
              "      <td>NaN</td>\n",
              "      <td>NaN</td>\n",
              "    </tr>\n",
              "    <tr>\n",
              "      <th>WP</th>\n",
              "      <td>Worldpay Inc. Class A</td>\n",
              "      <td>124.37</td>\n",
              "      <td>New York Stock Exchange</td>\n",
              "      <td>0.896607</td>\n",
              "      <td>0.00</td>\n",
              "      <td>70.41-115.68</td>\n",
              "      <td>Business Services</td>\n",
              "      <td>http://www.worldpay.com</td>\n",
              "      <td>Worldpay Inc is a payment processing company t...</td>\n",
              "      <td>Philip Jansen / Charles D. Drucker</td>\n",
              "      <td>Industrials</td>\n",
              "      <td>https://financialmodelingprep.com/images-New-j...</td>\n",
              "      <td>NaN</td>\n",
              "      <td>NaN</td>\n",
              "      <td>NaN</td>\n",
              "      <td>NaN</td>\n",
              "      <td>NaN</td>\n",
              "      <td>NaN</td>\n",
              "      <td>NaN</td>\n",
              "      <td>NaN</td>\n",
              "      <td>NaN</td>\n",
              "      <td>NaN</td>\n",
              "      <td>NaN</td>\n",
              "      <td>NaN</td>\n",
              "      <td>NaN</td>\n",
              "      <td>NaN</td>\n",
              "      <td>NaN</td>\n",
              "      <td>NaN</td>\n",
              "      <td>NaN</td>\n",
              "      <td>NaN</td>\n",
              "    </tr>\n",
              "    <tr>\n",
              "      <th>CLNS</th>\n",
              "      <td>Colony NorthStar Inc.</td>\n",
              "      <td>6.41</td>\n",
              "      <td>New York Stock Exchange</td>\n",
              "      <td>1.356758</td>\n",
              "      <td>0.44</td>\n",
              "      <td>5.28-14.74</td>\n",
              "      <td>REITs</td>\n",
              "      <td>http://www.clns.com</td>\n",
              "      <td>Colony NorthStar Inc is a real estate and inve...</td>\n",
              "      <td>Richard B. Saltzman</td>\n",
              "      <td>Real Estate</td>\n",
              "      <td>https://financialmodelingprep.com/images-New-j...</td>\n",
              "      <td>NaN</td>\n",
              "      <td>NaN</td>\n",
              "      <td>NaN</td>\n",
              "      <td>NaN</td>\n",
              "      <td>NaN</td>\n",
              "      <td>NaN</td>\n",
              "      <td>NaN</td>\n",
              "      <td>NaN</td>\n",
              "      <td>NaN</td>\n",
              "      <td>NaN</td>\n",
              "      <td>NaN</td>\n",
              "      <td>NaN</td>\n",
              "      <td>NaN</td>\n",
              "      <td>NaN</td>\n",
              "      <td>NaN</td>\n",
              "      <td>NaN</td>\n",
              "      <td>NaN</td>\n",
              "      <td>NaN</td>\n",
              "    </tr>\n",
              "  </tbody>\n",
              "</table>\n",
              "</div>"
            ],
            "text/plain": [
              "                                           name  ...  timestamp\n",
              "symbol                                           ...           \n",
              "HK                 Halcon Resources Corporation  ...        NaN\n",
              "WFT     Weatherford International plc (Ireland)  ...        NaN\n",
              "DWDP                             DowDuPont Inc.  ...        NaN\n",
              "WP                        Worldpay Inc. Class A  ...        NaN\n",
              "CLNS                      Colony NorthStar Inc.  ...        NaN\n",
              "\n",
              "[5 rows x 30 columns]"
            ]
          },
          "metadata": {
            "tags": []
          },
          "execution_count": 24
        }
      ]
    },
    {
      "cell_type": "markdown",
      "metadata": {
        "id": "AVJv5hXtVB2H",
        "colab_type": "text"
      },
      "source": [
        "As seen above all the numerical values except price are missing for these value for the small sample. We can remove these nulls as we can use yearHigh,yearLow and change for our analysis."
      ]
    },
    {
      "cell_type": "code",
      "metadata": {
        "id": "deqw6XtiVWU9",
        "colab_type": "code",
        "colab": {}
      },
      "source": [
        "stock_market_df = stock_market_df[stock_market_df['yearHigh'].notna()]"
      ],
      "execution_count": 0,
      "outputs": []
    },
    {
      "cell_type": "code",
      "metadata": {
        "id": "j33g4PyQVhil",
        "colab_type": "code",
        "outputId": "62d01aef-ab0e-41fa-fedf-f571d473bce5",
        "colab": {
          "base_uri": "https://localhost:8080/",
          "height": 34
        }
      },
      "source": [
        "stock_market_df.shape"
      ],
      "execution_count": 0,
      "outputs": [
        {
          "output_type": "execute_result",
          "data": {
            "text/plain": [
              "(11985, 30)"
            ]
          },
          "metadata": {
            "tags": []
          },
          "execution_count": 26
        }
      ]
    },
    {
      "cell_type": "code",
      "metadata": {
        "id": "AI-SAsJcVoyc",
        "colab_type": "code",
        "outputId": "e706c09e-b49b-4723-a9e4-000c68045703",
        "colab": {
          "base_uri": "https://localhost:8080/",
          "height": 544
        }
      },
      "source": [
        "stock_market_df.isnull().sum()"
      ],
      "execution_count": 0,
      "outputs": [
        {
          "output_type": "execute_result",
          "data": {
            "text/plain": [
              "name                       0\n",
              "price                      0\n",
              "exchange                   0\n",
              "beta                    3166\n",
              "lastDiv                 5174\n",
              "range                      0\n",
              "industry                4427\n",
              "website                 2837\n",
              "description              183\n",
              "ceo                     7841\n",
              "sector                  4427\n",
              "image                      0\n",
              "changesPercentage          0\n",
              "change                     0\n",
              "dayLow                  1514\n",
              "dayHigh                 1513\n",
              "yearHigh                   0\n",
              "yearLow                    0\n",
              "marketCap               4018\n",
              "priceAvg50                96\n",
              "priceAvg200               94\n",
              "volume                  1511\n",
              "avgVolume                 96\n",
              "open                    1527\n",
              "previousClose             11\n",
              "eps                     4803\n",
              "pe                      7522\n",
              "earningsAnnouncement    6655\n",
              "sharesOutstanding       4034\n",
              "timestamp                  0\n",
              "dtype: int64"
            ]
          },
          "metadata": {
            "tags": []
          },
          "execution_count": 27
        }
      ]
    },
    {
      "cell_type": "markdown",
      "metadata": {
        "id": "ECQUtXdxV6xZ",
        "colab_type": "text"
      },
      "source": [
        "As we can see after removing the 1126 entries our dataset is a lot less sparce and we have not lost a lot of data either. This is now an acceptable dataset and we can begin our analysis and alter according to our needs."
      ]
    },
    {
      "cell_type": "code",
      "metadata": {
        "id": "oVpEyNIOXAsI",
        "colab_type": "code",
        "outputId": "b48fb0e0-ebd9-4272-e6b9-de9286427c63",
        "colab": {
          "base_uri": "https://localhost:8080/",
          "height": 102
        }
      },
      "source": [
        "stock_market_df['exchange'].unique()"
      ],
      "execution_count": 0,
      "outputs": [
        {
          "output_type": "execute_result",
          "data": {
            "text/plain": [
              "array(['NYSE Arca', 'Nasdaq Global Select', 'New York Stock Exchange',\n",
              "       'NASDAQ Global Market', 'NASDAQ Capital Market', 'BATS Exchange',\n",
              "       'NYSE American', 'Nasdaq', 'NYSE', 'NasdaqGM', 'NasdaqCM',\n",
              "       'NasdaqGS', 'Other OTC', 'YHD', 'Paris', 'Amsterdam', 'Brussels',\n",
              "       'Lisbon', 'Toronto', 'NYSEArca', 'BATS'], dtype=object)"
            ]
          },
          "metadata": {
            "tags": []
          },
          "execution_count": 29
        }
      ]
    },
    {
      "cell_type": "markdown",
      "metadata": {
        "id": "knxWJO9kXB9q",
        "colab_type": "text"
      },
      "source": [
        "#### 1. Which companies have the highest prices(Top 10) for their stock in NYSE or New York Stock Exchange?"
      ]
    },
    {
      "cell_type": "code",
      "metadata": {
        "id": "s7qRyb5pZxuk",
        "colab_type": "code",
        "outputId": "a609aa62-cb5c-473f-d8aa-d4c271a38413",
        "colab": {
          "base_uri": "https://localhost:8080/",
          "height": 770
        }
      },
      "source": [
        "top10mktCap_NYSE = stock_market_df[(stock_market_df['exchange'] == 'NYSE')  |\n",
        "                (stock_market_df['exchange'] == 'New York Stock Exchange')].sort_values(by=['marketCap'],ascending=False)[['name','marketCap']].head(10)\n",
        "top10mktCap_NYSE.set_index('name').plot.bar(title='Companies with highest market capital in NYSE',color='#e15759')"
      ],
      "execution_count": 0,
      "outputs": [
        {
          "output_type": "execute_result",
          "data": {
            "text/plain": [
              "<matplotlib.axes._subplots.AxesSubplot at 0x7fcb9a95d8d0>"
            ]
          },
          "metadata": {
            "tags": []
          },
          "execution_count": 58
        },
        {
          "output_type": "display_data",
          "data": {
            "image/png": "[encoded data removed]",
            "text/plain": [
              "<Figure size 800x550 with 1 Axes>"
            ]
          },
          "metadata": {
            "tags": []
          }
        }
      ]
    },
    {
      "cell_type": "markdown",
      "metadata": {
        "id": "X-hbEAIGcyQx",
        "colab_type": "text"
      },
      "source": [
        "#### 2. Which companies have the highest marketCap(Top 10) for their stock in Nasdaq Global Select?"
      ]
    },
    {
      "cell_type": "code",
      "metadata": {
        "id": "d2RFvDMRdHu8",
        "colab_type": "code",
        "outputId": "bf7c867a-7f49-4682-9aac-79fa4351723c",
        "colab": {
          "base_uri": "https://localhost:8080/",
          "height": 812
        }
      },
      "source": [
        "top10mktCap_Nasdaq = stock_market_df[(stock_market_df['exchange'] == 'Nasdaq Global Select')].sort_values(by=['marketCap'],ascending=False)[['name','marketCap']].head(10)\n",
        "top10mktCap_Nasdaq.set_index('name').plot.bar(title='Companies with highest market capital in Nasdaq Global Select Exchange')"
      ],
      "execution_count": 0,
      "outputs": [
        {
          "output_type": "execute_result",
          "data": {
            "text/plain": [
              "<matplotlib.axes._subplots.AxesSubplot at 0x7fcb9b166358>"
            ]
          },
          "metadata": {
            "tags": []
          },
          "execution_count": 55
        },
        {
          "output_type": "display_data",
          "data": {
            "image/png": "[encoded data removed]",
            "text/plain": [
              "<Figure size 800x550 with 1 Axes>"
            ]
          },
          "metadata": {
            "tags": []
          }
        }
      ]
    },
    {
      "cell_type": "markdown",
      "metadata": {
        "id": "r8s5UawCdmo0",
        "colab_type": "text"
      },
      "source": [
        "Well, we have found some of the giants in the world. Now we can check some emerging companies with the highest Change in their stock value for the day data was collected."
      ]
    },
    {
      "cell_type": "markdown",
      "metadata": {
        "id": "eUtEDr7eeNyc",
        "colab_type": "text"
      },
      "source": [
        "#### 3. Which companies have the highest Change Percentage(Top 10) for their stock in Nasdaq Global Select or NYSE?"
      ]
    },
    {
      "cell_type": "code",
      "metadata": {
        "id": "E46pZHWIeUsn",
        "colab_type": "code",
        "outputId": "ec1e4781-2a4a-4eb1-ee8c-51929d075a2c",
        "colab": {
          "base_uri": "https://localhost:8080/",
          "height": 1000
        }
      },
      "source": [
        "top10_changePerct = stock_market_df[(stock_market_df['exchange'] == 'Nasdaq Global Select') | \n",
        "                                    (stock_market_df['exchange'] == 'NYSE') | \n",
        "                                    (stock_market_df['exchange'] == 'New York Stock Exchange')].sort_values(by=['changesPercentage'],ascending=False)[['name','changesPercentage']].head(10)\n",
        "top10_changePerct.set_index('name').plot.bar(title='Companies with highest gain in share price',color='limegreen')"
      ],
      "execution_count": 0,
      "outputs": [
        {
          "output_type": "execute_result",
          "data": {
            "text/plain": [
              "<matplotlib.axes._subplots.AxesSubplot at 0x7fcb9b046710>"
            ]
          },
          "metadata": {
            "tags": []
          },
          "execution_count": 54
        },
        {
          "output_type": "display_data",
          "data": {
            "image/png": "[encoded data removed]",
            "text/plain": [
              "<Figure size 800x550 with 1 Axes>"
            ]
          },
          "metadata": {
            "tags": []
          }
        }
      ]
    },
    {
      "cell_type": "markdown",
      "metadata": {
        "id": "6k1vi1rUBPfZ",
        "colab_type": "text"
      },
      "source": [
        "#### 4. Which companies have performed badly on the data collection day in  Nasdaq Global Select or NYSE?"
      ]
    },
    {
      "cell_type": "code",
      "metadata": {
        "id": "md8T3RFuBcHQ",
        "colab_type": "code",
        "outputId": "6955a576-2ef1-4288-811c-58a53f68979c",
        "colab": {
          "base_uri": "https://localhost:8080/",
          "height": 778
        }
      },
      "source": [
        "least10_changePerct = stock_market_df[(stock_market_df['exchange'] == 'Nasdaq Global Select') | \n",
        "                                    (stock_market_df['exchange'] == 'NYSE') | \n",
        "                                    (stock_market_df['exchange'] == 'New York Stock Exchange')].sort_values(by=['changesPercentage'])[['name','changesPercentage']].head(10)\n",
        "least10_changePerct.set_index('name').plot.bar(title='Companies with highest drop in share price',color='purple')"
      ],
      "execution_count": 0,
      "outputs": [
        {
          "output_type": "execute_result",
          "data": {
            "text/plain": [
              "<matplotlib.axes._subplots.AxesSubplot at 0x7fcb9add17b8>"
            ]
          },
          "metadata": {
            "tags": []
          },
          "execution_count": 53
        },
        {
          "output_type": "display_data",
          "data": {
            "image/png": "[encoded data removed]",
            "text/plain": [
              "<Figure size 800x550 with 1 Axes>"
            ]
          },
          "metadata": {
            "tags": []
          }
        }
      ]
    },
    {
      "cell_type": "markdown",
      "metadata": {
        "id": "ZGgZWZrVDNIc",
        "colab_type": "text"
      },
      "source": [
        "#### 5. Which stock exchange has the highest market capital sum listed?"
      ]
    },
    {
      "cell_type": "code",
      "metadata": {
        "id": "xiWjAerkCJL1",
        "colab_type": "code",
        "outputId": "e69d69ac-ee4a-4a9c-eb08-176f6cad3249",
        "colab": {
          "base_uri": "https://localhost:8080/",
          "height": 695
        }
      },
      "source": [
        "total_exchange_cap = stock_market_df.groupby('exchange',as_index=False)['marketCap'].sum()\n",
        "total_exchange_cap.sort_values(by=['marketCap'],ascending=False).set_index('exchange').plot.bar(title='Stock Exchanges vs Total Market Cap',color='orange')"
      ],
      "execution_count": 0,
      "outputs": [
        {
          "output_type": "execute_result",
          "data": {
            "text/plain": [
              "<matplotlib.axes._subplots.AxesSubplot at 0x7fcb9a7b4ac8>"
            ]
          },
          "metadata": {
            "tags": []
          },
          "execution_count": 61
        },
        {
          "output_type": "display_data",
          "data": {
            "image/png": "[encoded data removed]",
            "text/plain": [
              "<Figure size 800x550 with 1 Axes>"
            ]
          },
          "metadata": {
            "tags": []
          }
        }
      ]
    },
    {
      "cell_type": "code",
      "metadata": {
        "id": "kHkcfh6QOEF1",
        "colab_type": "code",
        "colab": {}
      },
      "source": [
        "profile = ProfileReport(stock_market_df)\n",
        "profile"
      ],
      "execution_count": 0,
      "outputs": []
    },
    {
      "cell_type": "code",
      "metadata": {
        "id": "rOzmTM2A_WXl",
        "colab_type": "code",
        "colab": {}
      },
      "source": [
        ""
      ],
      "execution_count": 0,
      "outputs": []
    }
  ]
}